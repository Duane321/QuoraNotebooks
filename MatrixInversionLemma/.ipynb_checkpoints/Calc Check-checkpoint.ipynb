{
 "cells": [
  {
   "cell_type": "code",
   "execution_count": 1,
   "metadata": {
    "collapsed": true
   },
   "outputs": [],
   "source": [
    "import numpy as np\n",
    "import pandas as pd"
   ]
  },
  {
   "cell_type": "code",
   "execution_count": 2,
   "metadata": {
    "collapsed": false
   },
   "outputs": [],
   "source": [
    "samples = np.random.multivariate_normal([3,4,5,6],np.diag([1,2,3,4]),size=50000)\n",
    "w = 10000"
   ]
  },
  {
   "cell_type": "code",
   "execution_count": 3,
   "metadata": {
    "collapsed": false
   },
   "outputs": [],
   "source": [
    "def emp_mu(window):\n",
    "    return pd.DataFrame(window).mean().values\n",
    "\n",
    "def emp_cov(window):\n",
    "    mu = emp_mu(window)\n",
    "    cov = np.diag([0,0,0,0])\n",
    "    \n",
    "    for i in range(window.shape[0]):\n",
    "        diff = window[i,:] - mu\n",
    "        cov = cov + (1/w)*diff.reshape(-1,1).dot(diff.reshape(-1,1).T)\n",
    "        \n",
    "    return cov\n",
    "\n",
    "def emp_cov_2(window):\n",
    "    mu = emp_mu(window)\n",
    "    cov = -mu.reshape(-1,1).dot(mu.reshape(-1,1).T)\n",
    "    \n",
    "    for i in range(window.shape[0]):\n",
    "        cov = cov + (1/w)*window[i,:].reshape(-1,1).dot(window[i,:].reshape(-1,1).T)\n",
    "        \n",
    "    return cov\n",
    "    \n",
    "t = 11000\n",
    "window_t = samples[t-w:t,:]\n",
    "window_tp1 = samples[t-w+1:t+1,:]"
   ]
  },
  {
   "cell_type": "code",
   "execution_count": 4,
   "metadata": {
    "collapsed": false
   },
   "outputs": [
    {
     "data": {
      "text/html": [
       "<div>\n",
       "<style>\n",
       "    .dataframe thead tr:only-child th {\n",
       "        text-align: right;\n",
       "    }\n",
       "\n",
       "    .dataframe thead th {\n",
       "        text-align: left;\n",
       "    }\n",
       "\n",
       "    .dataframe tbody tr th {\n",
       "        vertical-align: top;\n",
       "    }\n",
       "</style>\n",
       "<table border=\"1\" class=\"dataframe\">\n",
       "  <thead>\n",
       "    <tr style=\"text-align: right;\">\n",
       "      <th></th>\n",
       "      <th>0</th>\n",
       "      <th>1</th>\n",
       "      <th>2</th>\n",
       "      <th>3</th>\n",
       "    </tr>\n",
       "  </thead>\n",
       "  <tbody>\n",
       "    <tr>\n",
       "      <th>0</th>\n",
       "      <td>1.006396</td>\n",
       "      <td>0.007550</td>\n",
       "      <td>-0.006021</td>\n",
       "      <td>0.005707</td>\n",
       "    </tr>\n",
       "    <tr>\n",
       "      <th>1</th>\n",
       "      <td>0.007550</td>\n",
       "      <td>2.018216</td>\n",
       "      <td>-0.002047</td>\n",
       "      <td>-0.000144</td>\n",
       "    </tr>\n",
       "    <tr>\n",
       "      <th>2</th>\n",
       "      <td>-0.006021</td>\n",
       "      <td>-0.002047</td>\n",
       "      <td>2.972636</td>\n",
       "      <td>-0.021646</td>\n",
       "    </tr>\n",
       "    <tr>\n",
       "      <th>3</th>\n",
       "      <td>0.005707</td>\n",
       "      <td>-0.000144</td>\n",
       "      <td>-0.021646</td>\n",
       "      <td>3.924767</td>\n",
       "    </tr>\n",
       "  </tbody>\n",
       "</table>\n",
       "</div>"
      ],
      "text/plain": [
       "          0         1         2         3\n",
       "0  1.006396  0.007550 -0.006021  0.005707\n",
       "1  0.007550  2.018216 -0.002047 -0.000144\n",
       "2 -0.006021 -0.002047  2.972636 -0.021646\n",
       "3  0.005707 -0.000144 -0.021646  3.924767"
      ]
     },
     "execution_count": 4,
     "metadata": {},
     "output_type": "execute_result"
    }
   ],
   "source": [
    "pd.DataFrame(emp_cov(window_t))"
   ]
  },
  {
   "cell_type": "code",
   "execution_count": 6,
   "metadata": {
    "collapsed": false
   },
   "outputs": [
    {
     "data": {
      "text/html": [
       "<div>\n",
       "<style>\n",
       "    .dataframe thead tr:only-child th {\n",
       "        text-align: right;\n",
       "    }\n",
       "\n",
       "    .dataframe thead th {\n",
       "        text-align: left;\n",
       "    }\n",
       "\n",
       "    .dataframe tbody tr th {\n",
       "        vertical-align: top;\n",
       "    }\n",
       "</style>\n",
       "<table border=\"1\" class=\"dataframe\">\n",
       "  <thead>\n",
       "    <tr style=\"text-align: right;\">\n",
       "      <th></th>\n",
       "      <th>0</th>\n",
       "      <th>1</th>\n",
       "      <th>2</th>\n",
       "      <th>3</th>\n",
       "    </tr>\n",
       "  </thead>\n",
       "  <tbody>\n",
       "    <tr>\n",
       "      <th>0</th>\n",
       "      <td>1.006278</td>\n",
       "      <td>0.007577</td>\n",
       "      <td>-0.006134</td>\n",
       "      <td>0.005912</td>\n",
       "    </tr>\n",
       "    <tr>\n",
       "      <th>1</th>\n",
       "      <td>0.007577</td>\n",
       "      <td>2.018278</td>\n",
       "      <td>-0.001904</td>\n",
       "      <td>-0.000364</td>\n",
       "    </tr>\n",
       "    <tr>\n",
       "      <th>2</th>\n",
       "      <td>-0.006134</td>\n",
       "      <td>-0.001904</td>\n",
       "      <td>2.972726</td>\n",
       "      <td>-0.021747</td>\n",
       "    </tr>\n",
       "    <tr>\n",
       "      <th>3</th>\n",
       "      <td>0.005912</td>\n",
       "      <td>-0.000364</td>\n",
       "      <td>-0.021747</td>\n",
       "      <td>3.924855</td>\n",
       "    </tr>\n",
       "  </tbody>\n",
       "</table>\n",
       "</div>"
      ],
      "text/plain": [
       "          0         1         2         3\n",
       "0  1.006278  0.007577 -0.006134  0.005912\n",
       "1  0.007577  2.018278 -0.001904 -0.000364\n",
       "2 -0.006134 -0.001904  2.972726 -0.021747\n",
       "3  0.005912 -0.000364 -0.021747  3.924855"
      ]
     },
     "execution_count": 6,
     "metadata": {},
     "output_type": "execute_result"
    }
   ],
   "source": [
    "pd.DataFrame(emp_cov(window_tp1))"
   ]
  },
  {
   "cell_type": "code",
   "execution_count": 15,
   "metadata": {
    "collapsed": false
   },
   "outputs": [
    {
     "data": {
      "text/html": [
       "<div>\n",
       "<style>\n",
       "    .dataframe thead tr:only-child th {\n",
       "        text-align: right;\n",
       "    }\n",
       "\n",
       "    .dataframe thead th {\n",
       "        text-align: left;\n",
       "    }\n",
       "\n",
       "    .dataframe tbody tr th {\n",
       "        vertical-align: top;\n",
       "    }\n",
       "</style>\n",
       "<table border=\"1\" class=\"dataframe\">\n",
       "  <thead>\n",
       "    <tr style=\"text-align: right;\">\n",
       "      <th></th>\n",
       "      <th>0</th>\n",
       "      <th>1</th>\n",
       "      <th>2</th>\n",
       "      <th>3</th>\n",
       "    </tr>\n",
       "  </thead>\n",
       "  <tbody>\n",
       "    <tr>\n",
       "      <th>0</th>\n",
       "      <td>1.006278</td>\n",
       "      <td>0.007577</td>\n",
       "      <td>-0.006134</td>\n",
       "      <td>0.005912</td>\n",
       "    </tr>\n",
       "    <tr>\n",
       "      <th>1</th>\n",
       "      <td>0.007577</td>\n",
       "      <td>2.018278</td>\n",
       "      <td>-0.001904</td>\n",
       "      <td>-0.000364</td>\n",
       "    </tr>\n",
       "    <tr>\n",
       "      <th>2</th>\n",
       "      <td>-0.006134</td>\n",
       "      <td>-0.001904</td>\n",
       "      <td>2.972726</td>\n",
       "      <td>-0.021747</td>\n",
       "    </tr>\n",
       "    <tr>\n",
       "      <th>3</th>\n",
       "      <td>0.005912</td>\n",
       "      <td>-0.000364</td>\n",
       "      <td>-0.021747</td>\n",
       "      <td>3.924855</td>\n",
       "    </tr>\n",
       "  </tbody>\n",
       "</table>\n",
       "</div>"
      ],
      "text/plain": [
       "          0         1         2         3\n",
       "0  1.006278  0.007577 -0.006134  0.005912\n",
       "1  0.007577  2.018278 -0.001904 -0.000364\n",
       "2 -0.006134 -0.001904  2.972726 -0.021747\n",
       "3  0.005912 -0.000364 -0.021747  3.924855"
      ]
     },
     "execution_count": 15,
     "metadata": {},
     "output_type": "execute_result"
    }
   ],
   "source": [
    "def my_cov_diff(t):\n",
    "    add_in = (1/w)*samples[t,:].reshape(-1,1).dot(samples[t,:].reshape(-1,1).T) \n",
    "    subtract_out = (1/w)*samples[t-w,:].reshape(-1,1).dot(samples[t-w,:].reshape(-1,1).T)\n",
    "    \n",
    "    diff = add_in - subtract_out\n",
    "    \n",
    "    delta = (1/w)*(samples[t,:] - samples[t-w,:])\n",
    "    Ert = emp_mu(samples[t-w:t,:])\n",
    "    \n",
    "    ch= Ert.reshape(-1,1).dot(delta.reshape(-1,1).T) - delta.reshape(-1,1).dot(Ert.reshape(-1,1).T)\n",
    "    print(ch)\n",
    "    \n",
    "    diff = diff - Ert.reshape(-1,1).dot(delta.reshape(-1,1).T)\n",
    "    diff = diff - delta.reshape(-1,1).dot(Ert.reshape(-1,1).T)\n",
    "    diff = diff - delta.reshape(-1,1).dot(delta.reshape(-1,1).T)\n",
    "    \n",
    "    return diff\n",
    "\n",
    "def my_cov_diff_2(t):\n",
    "    \n",
    "    Winv = np.diag([1/w,-1/w,-1/w,-1/w,-1/(w**2)])\n",
    "    \n",
    "    delta = samples[t,:] - samples[t-w,:]\n",
    "    mu = emp_mu(samples[t-w:t,:])\n",
    "    \n",
    "    L = np.column_stack([samples[t,:], \n",
    "                          samples[t-w,:],\n",
    "                          mu,\n",
    "                          delta,\n",
    "                          delta])\n",
    "    R = np.column_stack([samples[t,:], \n",
    "                          samples[t-w,:],\n",
    "                          delta,\n",
    "                          mu,\n",
    "                          delta])\n",
    "    \n",
    "    return L.dot(Winv).dot(R.T)\n",
    "\n",
    "pd.DataFrame(my_cov_diff_2(t) +   emp_cov(window_t))   "
   ]
  }
 ],
 "metadata": {
  "anaconda-cloud": {},
  "kernelspec": {
   "display_name": "Python [Root]",
   "language": "python",
   "name": "Python [Root]"
  },
  "language_info": {
   "codemirror_mode": {
    "name": "ipython",
    "version": 3
   },
   "file_extension": ".py",
   "mimetype": "text/x-python",
   "name": "python",
   "nbconvert_exporter": "python",
   "pygments_lexer": "ipython3",
   "version": "3.5.2"
  }
 },
 "nbformat": 4,
 "nbformat_minor": 2
}
