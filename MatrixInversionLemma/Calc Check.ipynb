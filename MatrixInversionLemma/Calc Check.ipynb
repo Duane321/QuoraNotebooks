{
 "cells": [
  {
   "cell_type": "code",
   "execution_count": 18,
   "metadata": {
    "collapsed": true
   },
   "outputs": [],
   "source": [
    "import numpy as np\n",
    "import pandas as pd"
   ]
  },
  {
   "cell_type": "code",
   "execution_count": 19,
   "metadata": {
    "collapsed": false
   },
   "outputs": [],
   "source": [
    "samples = np.random.multivariate_normal([3,4,5,6],np.diag([1,2,3,4]),size=50000)\n",
    "w = 100"
   ]
  },
  {
   "cell_type": "code",
   "execution_count": 20,
   "metadata": {
    "collapsed": false
   },
   "outputs": [],
   "source": [
    "def emp_mu(window):\n",
    "    return pd.DataFrame(window).mean().values\n",
    "\n",
    "def emp_cov(window):\n",
    "    mu = emp_mu(window)\n",
    "    cov = np.diag([0,0,0,0])\n",
    "    \n",
    "    for i in range(window.shape[0]):\n",
    "        diff = window[i,:] - mu\n",
    "        cov = cov + (1/w)*diff.reshape(-1,1).dot(diff.reshape(-1,1).T)\n",
    "        \n",
    "    return cov\n",
    "\n",
    "def emp_cov_2(window):\n",
    "    mu = emp_mu(window)\n",
    "    cov = -mu.reshape(-1,1).dot(mu.reshape(-1,1).T)\n",
    "    \n",
    "    for i in range(window.shape[0]):\n",
    "        cov = cov + (1/w)*window[i,:].reshape(-1,1).dot(window[i,:].reshape(-1,1).T)\n",
    "        \n",
    "    return cov\n",
    "    \n",
    "t = 11000\n",
    "window_t = samples[t-w:t,:]\n",
    "window_tp1 = samples[t-w+1:t+1,:]"
   ]
  },
  {
   "cell_type": "code",
   "execution_count": 21,
   "metadata": {
    "collapsed": false
   },
   "outputs": [
    {
     "data": {
      "text/html": [
       "<div>\n",
       "<style>\n",
       "    .dataframe thead tr:only-child th {\n",
       "        text-align: right;\n",
       "    }\n",
       "\n",
       "    .dataframe thead th {\n",
       "        text-align: left;\n",
       "    }\n",
       "\n",
       "    .dataframe tbody tr th {\n",
       "        vertical-align: top;\n",
       "    }\n",
       "</style>\n",
       "<table border=\"1\" class=\"dataframe\">\n",
       "  <thead>\n",
       "    <tr style=\"text-align: right;\">\n",
       "      <th></th>\n",
       "      <th>0</th>\n",
       "      <th>1</th>\n",
       "      <th>2</th>\n",
       "      <th>3</th>\n",
       "    </tr>\n",
       "  </thead>\n",
       "  <tbody>\n",
       "    <tr>\n",
       "      <th>0</th>\n",
       "      <td>0.892441</td>\n",
       "      <td>-0.082808</td>\n",
       "      <td>0.026210</td>\n",
       "      <td>-0.052417</td>\n",
       "    </tr>\n",
       "    <tr>\n",
       "      <th>1</th>\n",
       "      <td>-0.082808</td>\n",
       "      <td>2.395898</td>\n",
       "      <td>-0.068706</td>\n",
       "      <td>0.910355</td>\n",
       "    </tr>\n",
       "    <tr>\n",
       "      <th>2</th>\n",
       "      <td>0.026210</td>\n",
       "      <td>-0.068706</td>\n",
       "      <td>2.816078</td>\n",
       "      <td>0.428492</td>\n",
       "    </tr>\n",
       "    <tr>\n",
       "      <th>3</th>\n",
       "      <td>-0.052417</td>\n",
       "      <td>0.910355</td>\n",
       "      <td>0.428492</td>\n",
       "      <td>5.012212</td>\n",
       "    </tr>\n",
       "  </tbody>\n",
       "</table>\n",
       "</div>"
      ],
      "text/plain": [
       "          0         1         2         3\n",
       "0  0.892441 -0.082808  0.026210 -0.052417\n",
       "1 -0.082808  2.395898 -0.068706  0.910355\n",
       "2  0.026210 -0.068706  2.816078  0.428492\n",
       "3 -0.052417  0.910355  0.428492  5.012212"
      ]
     },
     "execution_count": 21,
     "metadata": {},
     "output_type": "execute_result"
    }
   ],
   "source": [
    "pd.DataFrame(emp_cov(window_t))"
   ]
  },
  {
   "cell_type": "code",
   "execution_count": 22,
   "metadata": {
    "collapsed": false
   },
   "outputs": [
    {
     "data": {
      "text/html": [
       "<div>\n",
       "<style>\n",
       "    .dataframe thead tr:only-child th {\n",
       "        text-align: right;\n",
       "    }\n",
       "\n",
       "    .dataframe thead th {\n",
       "        text-align: left;\n",
       "    }\n",
       "\n",
       "    .dataframe tbody tr th {\n",
       "        vertical-align: top;\n",
       "    }\n",
       "</style>\n",
       "<table border=\"1\" class=\"dataframe\">\n",
       "  <thead>\n",
       "    <tr style=\"text-align: right;\">\n",
       "      <th></th>\n",
       "      <th>0</th>\n",
       "      <th>1</th>\n",
       "      <th>2</th>\n",
       "      <th>3</th>\n",
       "    </tr>\n",
       "  </thead>\n",
       "  <tbody>\n",
       "    <tr>\n",
       "      <th>0</th>\n",
       "      <td>0.887599</td>\n",
       "      <td>-0.105476</td>\n",
       "      <td>0.025459</td>\n",
       "      <td>-0.078768</td>\n",
       "    </tr>\n",
       "    <tr>\n",
       "      <th>1</th>\n",
       "      <td>-0.105476</td>\n",
       "      <td>2.290343</td>\n",
       "      <td>-0.072150</td>\n",
       "      <td>0.785636</td>\n",
       "    </tr>\n",
       "    <tr>\n",
       "      <th>2</th>\n",
       "      <td>0.025459</td>\n",
       "      <td>-0.072150</td>\n",
       "      <td>2.815971</td>\n",
       "      <td>0.424226</td>\n",
       "    </tr>\n",
       "    <tr>\n",
       "      <th>3</th>\n",
       "      <td>-0.078768</td>\n",
       "      <td>0.785636</td>\n",
       "      <td>0.424226</td>\n",
       "      <td>4.872032</td>\n",
       "    </tr>\n",
       "  </tbody>\n",
       "</table>\n",
       "</div>"
      ],
      "text/plain": [
       "          0         1         2         3\n",
       "0  0.887599 -0.105476  0.025459 -0.078768\n",
       "1 -0.105476  2.290343 -0.072150  0.785636\n",
       "2  0.025459 -0.072150  2.815971  0.424226\n",
       "3 -0.078768  0.785636  0.424226  4.872032"
      ]
     },
     "execution_count": 22,
     "metadata": {},
     "output_type": "execute_result"
    }
   ],
   "source": [
    "pd.DataFrame(emp_cov(window_tp1))"
   ]
  },
  {
   "cell_type": "code",
   "execution_count": 23,
   "metadata": {
    "collapsed": false
   },
   "outputs": [
    {
     "data": {
      "text/html": [
       "<div>\n",
       "<style>\n",
       "    .dataframe thead tr:only-child th {\n",
       "        text-align: right;\n",
       "    }\n",
       "\n",
       "    .dataframe thead th {\n",
       "        text-align: left;\n",
       "    }\n",
       "\n",
       "    .dataframe tbody tr th {\n",
       "        vertical-align: top;\n",
       "    }\n",
       "</style>\n",
       "<table border=\"1\" class=\"dataframe\">\n",
       "  <thead>\n",
       "    <tr style=\"text-align: right;\">\n",
       "      <th></th>\n",
       "      <th>0</th>\n",
       "      <th>1</th>\n",
       "      <th>2</th>\n",
       "      <th>3</th>\n",
       "    </tr>\n",
       "  </thead>\n",
       "  <tbody>\n",
       "    <tr>\n",
       "      <th>0</th>\n",
       "      <td>0.887599</td>\n",
       "      <td>-0.105476</td>\n",
       "      <td>0.025459</td>\n",
       "      <td>-0.078768</td>\n",
       "    </tr>\n",
       "    <tr>\n",
       "      <th>1</th>\n",
       "      <td>-0.105476</td>\n",
       "      <td>2.290343</td>\n",
       "      <td>-0.072150</td>\n",
       "      <td>0.785636</td>\n",
       "    </tr>\n",
       "    <tr>\n",
       "      <th>2</th>\n",
       "      <td>0.025459</td>\n",
       "      <td>-0.072150</td>\n",
       "      <td>2.815971</td>\n",
       "      <td>0.424226</td>\n",
       "    </tr>\n",
       "    <tr>\n",
       "      <th>3</th>\n",
       "      <td>-0.078768</td>\n",
       "      <td>0.785636</td>\n",
       "      <td>0.424226</td>\n",
       "      <td>4.872032</td>\n",
       "    </tr>\n",
       "  </tbody>\n",
       "</table>\n",
       "</div>"
      ],
      "text/plain": [
       "          0         1         2         3\n",
       "0  0.887599 -0.105476  0.025459 -0.078768\n",
       "1 -0.105476  2.290343 -0.072150  0.785636\n",
       "2  0.025459 -0.072150  2.815971  0.424226\n",
       "3 -0.078768  0.785636  0.424226  4.872032"
      ]
     },
     "execution_count": 23,
     "metadata": {},
     "output_type": "execute_result"
    }
   ],
   "source": [
    "def my_cov_diff(t):\n",
    "    add_in = (1/w)*samples[t,:].reshape(-1,1).dot(samples[t,:].reshape(-1,1).T) \n",
    "    subtract_out = (1/w)*samples[t-w,:].reshape(-1,1).dot(samples[t-w,:].reshape(-1,1).T)\n",
    "    \n",
    "    diff = add_in - subtract_out\n",
    "    \n",
    "    delta = (1/w)*(samples[t,:] - samples[t-w,:])\n",
    "    Ert = emp_mu(samples[t-w:t,:])\n",
    "    \n",
    "    ch= Ert.reshape(-1,1).dot(delta.reshape(-1,1).T) - delta.reshape(-1,1).dot(Ert.reshape(-1,1).T)\n",
    "    print(ch)\n",
    "    \n",
    "    diff = diff - Ert.reshape(-1,1).dot(delta.reshape(-1,1).T)\n",
    "    diff = diff - delta.reshape(-1,1).dot(Ert.reshape(-1,1).T)\n",
    "    diff = diff - delta.reshape(-1,1).dot(delta.reshape(-1,1).T)\n",
    "    \n",
    "    return diff\n",
    "\n",
    "def my_cov_diff_2(t):\n",
    "    \n",
    "    Winv = np.diag([1/w,-1/w,-1/w,-1/w,-1/(w**2)])\n",
    "    \n",
    "    delta = samples[t,:] - samples[t-w,:]\n",
    "    mu = emp_mu(samples[t-w:t,:])\n",
    "    \n",
    "    L = np.column_stack([samples[t,:], \n",
    "                          samples[t-w,:],\n",
    "                          mu,\n",
    "                          delta,\n",
    "                          delta])\n",
    "    R = np.column_stack([samples[t,:], \n",
    "                          samples[t-w,:],\n",
    "                          delta,\n",
    "                          mu,\n",
    "                          delta])\n",
    "    \n",
    "    return L.dot(Winv).dot(R.T)\n",
    "\n",
    "pd.DataFrame(my_cov_diff_2(t) +   emp_cov(window_t))   "
   ]
  }
 ],
 "metadata": {
  "anaconda-cloud": {},
  "kernelspec": {
   "display_name": "Python [Root]",
   "language": "python",
   "name": "Python [Root]"
  },
  "language_info": {
   "codemirror_mode": {
    "name": "ipython",
    "version": 3
   },
   "file_extension": ".py",
   "mimetype": "text/x-python",
   "name": "python",
   "nbconvert_exporter": "python",
   "pygments_lexer": "ipython3",
   "version": "3.5.2"
  }
 },
 "nbformat": 4,
 "nbformat_minor": 2
}
