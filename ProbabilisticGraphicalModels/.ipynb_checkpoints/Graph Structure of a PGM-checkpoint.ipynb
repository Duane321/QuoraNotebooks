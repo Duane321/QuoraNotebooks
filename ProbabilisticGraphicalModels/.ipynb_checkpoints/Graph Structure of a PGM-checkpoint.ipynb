{
 "cells": [
  {
   "cell_type": "markdown",
   "metadata": {},
   "source": []
  },
  {
   "cell_type": "markdown",
   "metadata": {},
   "source": [
    "### How is the Graph Structure of a PGM learned?\n",
    "\n",
    "In an interview for *The World from another Point of View*, Richard Feynman says:\n",
    "\n",
    "\"\n",
    "I read Dirac's book, and he had these problems that nobody knew how to solve. I couldn't understand the book very well because I really wasn't up to it. But there, in the last paragraph at the end of the book, it said 'some new ideas are here needed.' And so there I was - some new ideas are needed? OK, so I started to think of new ideas.\n",
    "\"\n",
    "\n",
    "I'm no Dirac, but at this point in covering PGMs, I'd like to make the same statement: *Some new ideas are here needed.* Learning the graph structure is *hard*, and you, a possible Feynman, could provide those ideas. \n",
    "\n"
   ]
  },
  {
   "cell_type": "code",
   "execution_count": null,
   "metadata": {},
   "outputs": [],
   "source": []
  }
 ],
 "metadata": {
  "kernelspec": {
   "display_name": "Python 3",
   "language": "python",
   "name": "python3"
  },
  "language_info": {
   "codemirror_mode": {
    "name": "ipython",
    "version": 3
   },
   "file_extension": ".py",
   "mimetype": "text/x-python",
   "name": "python",
   "nbconvert_exporter": "python",
   "pygments_lexer": "ipython3",
   "version": "3.6.4"
  }
 },
 "nbformat": 4,
 "nbformat_minor": 2
}
