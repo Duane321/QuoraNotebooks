{
 "cells": [
  {
   "cell_type": "markdown",
   "metadata": {},
   "source": [
    "- I need to make the reference to $P$ different depending on whether it's the true distribution, MN distribution or BN distribution.\n",
    "- Drop the freshers? Or cut them down substantially? They add too much length.\n",
    "- Should I introduce the idea of a factor's scope?\n",
    "- I mention that we can use the Gibbs Rule to talk about the Chain Rule.. but in practice, we actually wouldn't do that conversion. Need to point that out!\n",
    "- Should I mention the process of reducing the Gibbs talble to another Gibbs table when we have evidence?\n",
    "- Should I change the evidence variable to use the notation of $\\mathbf{E}$?\n",
    "- Should I mention the conversion of CPDs to Gibbs Factors in the first question? It shows up everywhere.\n",
    "- I need to mention the Markov Blanket, which gets mentioned a lot downstream.\n",
    "- Use this notation: $\\prod_{j:X_i \\in \\mathbf{D}_j}$\n",
    "- I need to backfill the running definition of inference\n",
    "- Make it doesn't look like you are trying to sound smart! That's not your angle!\n",
    "- When I do the equivalence of the Chain Rule and Gibbs Rule, I should mention how we handle evidence in the BN.\n",
    "- I need to move the idea of conditioning and the Gibbs conversion to answer 1.\n",
    "- I can drop the 'wrapping things up' stuff\n",
    "- If I'm using a graphic from a textbook, add a footnote that points that graphic out.\n",
    "- Footnotes aren't required to be at the end of sentences.\n",
    "- In the MCMC, I call $\\mathcal{T}$ transition probabilities.. but it's not always explicit probabilities.. sometimes it's just  rule..\n",
    "- Refer to Barber's book!\n",
    "- Grr.. it's probably best I make all my own graphs..\n",
    "- For answer 1.. I should use the same example for both a MN and a BN."
   ]
  },
  {
   "cell_type": "code",
   "execution_count": null,
   "metadata": {},
   "outputs": [],
   "source": []
  }
 ],
 "metadata": {
  "kernelspec": {
   "display_name": "Python 3",
   "language": "python",
   "name": "python3"
  },
  "language_info": {
   "codemirror_mode": {
    "name": "ipython",
    "version": 3
   },
   "file_extension": ".py",
   "mimetype": "text/x-python",
   "name": "python",
   "nbconvert_exporter": "python",
   "pygments_lexer": "ipython3",
   "version": "3.6.4"
  }
 },
 "nbformat": 4,
 "nbformat_minor": 2
}
