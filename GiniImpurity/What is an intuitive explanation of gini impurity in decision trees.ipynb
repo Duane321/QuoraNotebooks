{
 "cells": [
  {
   "cell_type": "code",
   "execution_count": 2,
   "metadata": {
    "collapsed": true
   },
   "outputs": [],
   "source": [
    "import numpy as np\n",
    "import pandas as pd\n",
    "import matplotlib.pyplot as plt\n",
    "%matplotlib inline"
   ]
  },
  {
   "cell_type": "markdown",
   "metadata": {},
   "source": [
    "### Scrap"
   ]
  },
  {
   "cell_type": "markdown",
   "metadata": {},
   "source": [
    "Fortunately, when we focus on these even-split cases, this type of behavior is easy to generate. Just use:\n",
    "\n",
    "\n",
    "\n",
    "\n",
    "That is:\n",
    "\n",
    "$$\n",
    "\\lim_{C\\rightarrow \\infty}M(\\mathcal{S}_C) = 1\n",
    "$$\n",
    "\n",
    "Let's try something else: For each category, make a new set where we label things as either that category or not that category. That is, let's make these new sets:\n",
    "\n",
    "Now, let's do our two element product over each of these:\n",
    "\n",
    "$$\n",
    "\\begin{align}\n",
    "M_2\\textrm{ Impurity of A's set}=& \\frac{4}{12}\\big(1-\\frac{4}{12}\\big)=0.22\\\\\n",
    "M_2\\textrm{ Impurity of B's set}=& \\frac{3}{12}\\big(1-\\frac{3}{12}\\big)=0.19\\\\\n",
    "M_2\\textrm{ Impurity of C's set}=& \\frac{5}{12}\\big(1-\\frac{5}{12}\\big)=0.24\\\\\n",
    "\\end{align}\n",
    "$$\n",
    "\n",
    "$$\n",
    "\\textrm{Gini Impurity} = 0.65\n",
    "$$\n",
    "\n",
    "Now how should we combine them? If we take the average, then the max impurity number will still decrease (but less so then earlier). Ok, so let's add them up."
   ]
  },
  {
   "cell_type": "markdown",
   "metadata": {},
   "source": [
    "### Final Answer"
   ]
  },
  {
   "cell_type": "markdown",
   "metadata": {},
   "source": [
    "In answering this question, I'd like to talk about how we might develop this metric ourselves. That process is basically to say 'I want my metric to do act this way in these circumstances' and how to force those behaviors. In the end, you'll see what the Gini impurity measure was going for and I think that's a good way to see the upsides and downsides of such a metric.\n",
    "\n",
    "First things first - let's be clear about what we are talking about.\n",
    "\n",
    "Let's say we have data like this:  \n",
    "\n",
    "![title](S2.png)\n",
    "\n",
    "Let's call this $\\mathcal{S}_2$. We'd like something that is low when $\\mathcal{S}_2$ is 'pure' and high when it is.. you guessed it.. impure. Let's calculate something obviously useful:\n",
    "\n",
    "$$\n",
    "\\begin{align}\n",
    "p_A & = \\frac{\\textrm{Number of } A\\textrm{'s}}{\\textrm{Number of } A\\textrm{'s and } B\\textrm{'s}} \\\\\n",
    "p_B & = \\frac{\\textrm{Number of } B\\textrm{'s}}{\\textrm{Number of } A\\textrm{'s and } B\\textrm{'s}} \\\\\n",
    "\\end{align}\n",
    "$$\n",
    "\n",
    "Any ideas? What about just $p_A$? That's low when the set is full of $A$ (good!), but high when it's full of $B$ (fuck!). We need something symmetric. How about:\n",
    "\n",
    "$$\n",
    "M_2(\\mathcal{S}_2)=p_A\\cdot p_B = p_A\\cdot (1-p_A) \n",
    "$$\n",
    "\n",
    "Does this metric (call it $M_2$) do what we want? Well, we can plot this guy as a function of $p_A$. That looks like: "
   ]
  },
  {
   "cell_type": "code",
   "execution_count": null,
   "metadata": {
    "collapsed": true
   },
   "outputs": [],
   "source": []
  },
  {
   "cell_type": "markdown",
   "metadata": {},
   "source": [
    "Nice! It's high right when we have an even mixing and low otherwise - just what we want.\n",
    "\n",
    "But what if we have something like this?\n",
    "\n",
    "![title](S3.png)\n",
    "\n",
    "Let's call this $\\mathcal{S}_3$.\n",
    "\n",
    "This is a little harder. We could do:\n",
    "\n",
    "$$\n",
    "p_A\\cdot p_B \\cdot p_C \n",
    "$$\n",
    "\n",
    "There's a problem though. If we have 'max impurity' split of a $[\\frac{1}{3},\\frac{1}{3},\\frac{1}{3}]$, this tops out at $\\frac{1}{27}$. When we only had $A$'s and $B$'s, things capped out at $\\frac{1}{4}$. How have we gone *down* in impurity by adding a new category? It should go up! In other words, if I have $C$ categories, then our metric should increase in the cases we see the max-impurity split of $[\\frac{1}{C},\\frac{1}{C},\\cdots,\\frac{1}{C}]$. But it shouldn't go up indefinitely. Presumably the difference in impurity due to adding the trillion category should be very small, so it should level out. \n",
    "\n",
    "So let's look a function that'll take $[\\frac{1}{C},\\frac{1}{C},\\cdots,\\frac{1}{C}]$ and return a larger but plateauing number as $C$ increases. Fortunately, this type of behavior comes up a lot. Just use:\n",
    "\n",
    "$$\n",
    "f(C) = \\sum_i^C \\frac{1}{C}\\big(1-\\frac{1}{C}\\big)\n",
    "$$\n",
    "\n",
    "Which looks like:"
   ]
  },
  {
   "cell_type": "code",
   "execution_count": 18,
   "metadata": {
    "collapsed": false
   },
   "outputs": [
    {
     "data": {
      "image/png": "[encoded data removed]",
      "text/plain": [
       "<matplotlib.figure.Figure at 0x244203b2390>"
      ]
     },
     "metadata": {},
     "output_type": "display_data"
    }
   ],
   "source": [
    "def N_sum(n):\n",
    "    out = 0\n",
    "    for i in range(n):\n",
    "        out += (1/n)*(1-(1/n))\n",
    "    return out\n",
    "\n",
    "n = [i for i in range(1,20)]\n",
    "y = [N_sum(ni) for ni in n]\n",
    "fig, ax = plt.subplots()\n",
    "pd.Series(y,index=n).plot(ax=ax)\n",
    "ax.set_ylabel('$f(C)$',fontsize=16)\n",
    "ax.set_xlabel('$C$',fontsize=16)\n",
    "pass"
   ]
  },
  {
   "cell_type": "markdown",
   "metadata": {},
   "source": [
    "Ok, so $f(C)$ should be giving us some ideas. How can we smash this and our earlier metric together? Well the only thing I can think of is:\n",
    "\n",
    "$$\n",
    "M(\\mathcal{S}_2) = p_A\\cdot (1-p_A) + p_B\\cdot (1-p_B) + p_C\\cdot (1-p_C)\n",
    "$$\n",
    "\n",
    "And that's your gini impurity measure! We are effectively making a new set for each category, applying our simple, symmetric $M_2$ metric and summing the results:\n",
    "\n",
    "![title](GiniCalc.png)\n",
    "\n",
    "And there we have it. We started with something simple/workable in the case of two categories, then we sought some specific behavior as we add categories. We found a function that accomplished that and were able to combine them nicely.\n",
    "\n",
    "### Ok, but what is this Gini Impurity metric used for?\n",
    "\n",
    "Ah yes - it's not much use knowing about this metric without knowing it's broader purpose. That is, it's use in decision trees. \n",
    "\n",
    "So imagine we have a set with 3 categories, but each element is associated with a real number. So something like this:"
   ]
  },
  {
   "cell_type": "code",
   "execution_count": 37,
   "metadata": {
    "collapsed": false
   },
   "outputs": [
    {
     "data": {
      "text/plain": [
       "0.15021386503085854"
      ]
     },
     "execution_count": 37,
     "metadata": {},
     "output_type": "execute_result"
    }
   ],
   "source": [
    "np.random.uniform()"
   ]
  },
  {
   "cell_type": "code",
   "execution_count": 62,
   "metadata": {
    "collapsed": false
   },
   "outputs": [
    {
     "data": {
      "text/html": [
       "<div>\n",
       "<style>\n",
       "    .dataframe thead tr:only-child th {\n",
       "        text-align: right;\n",
       "    }\n",
       "\n",
       "    .dataframe thead th {\n",
       "        text-align: left;\n",
       "    }\n",
       "\n",
       "    .dataframe tbody tr th {\n",
       "        vertical-align: top;\n",
       "    }\n",
       "</style>\n",
       "<table border=\"1\" class=\"dataframe\">\n",
       "  <thead>\n",
       "    <tr style=\"text-align: right;\">\n",
       "      <th></th>\n",
       "      <th>category</th>\n",
       "      <th>some number</th>\n",
       "    </tr>\n",
       "  </thead>\n",
       "  <tbody>\n",
       "    <tr>\n",
       "      <th>0</th>\n",
       "      <td>A</td>\n",
       "      <td>0.458334</td>\n",
       "    </tr>\n",
       "    <tr>\n",
       "      <th>1</th>\n",
       "      <td>A</td>\n",
       "      <td>2.474009</td>\n",
       "    </tr>\n",
       "    <tr>\n",
       "      <th>2</th>\n",
       "      <td>A</td>\n",
       "      <td>2.326622</td>\n",
       "    </tr>\n",
       "    <tr>\n",
       "      <th>3</th>\n",
       "      <td>B</td>\n",
       "      <td>8.857071</td>\n",
       "    </tr>\n",
       "    <tr>\n",
       "      <th>4</th>\n",
       "      <td>B</td>\n",
       "      <td>9.926397</td>\n",
       "    </tr>\n",
       "  </tbody>\n",
       "</table>\n",
       "</div>"
      ],
      "text/plain": [
       "  category  some number\n",
       "0        A     0.458334\n",
       "1        A     2.474009\n",
       "2        A     2.326622\n",
       "3        B     8.857071\n",
       "4        B     9.926397"
      ]
     },
     "execution_count": 62,
     "metadata": {},
     "output_type": "execute_result"
    }
   ],
   "source": [
    "cats = ['A','B','C']\n",
    "cat_map = {'A':'blue','B':'green','C':'red'}\n",
    "N = 1000\n",
    "cat_df = pd.DataFrame({'category':np.random.choice(cats,N)})\n",
    "cat_df['some number'] = np.nan\n",
    "\n",
    "def GenMixture(left_mean, left_scale, right_mean, right_scale, size, mix = 0.5):\n",
    "    out = np.random.normal(right_mean,right_scale,size)\n",
    "    logi = np.random.uniform(size=size) < mix\n",
    "    out[logi] = np.random.normal(left_mean,left_scale,np.sum(logi))\n",
    "    return out\n",
    "\n",
    "logi = cat_df['category']=='A'\n",
    "cat_df.loc[logi,'some number'] = np.random.normal(3,1,np.sum(logi))\n",
    "logi = cat_df['category']=='B'\n",
    "cat_df.loc[logi,'some number'] = GenMixture(2,.9,9,1,np.sum(logi),.5)\n",
    "logi = cat_df['category']=='C'\n",
    "cat_df.loc[logi,'some number'] = GenMixture(4,2,5,2,np.sum(logi),.5)\n",
    "\n",
    "cat_df.head()"
   ]
  },
  {
   "cell_type": "code",
   "execution_count": 85,
   "metadata": {
    "collapsed": false
   },
   "outputs": [
    {
     "data": {
      "image/png": "[encoded data removed]",
      "text/plain": [
       "<matplotlib.figure.Figure at 0x2442249c550>"
      ]
     },
     "metadata": {},
     "output_type": "display_data"
    }
   ],
   "source": [
    "figsize = (10,5)\n",
    "fig, ax = plt.subplots(figsize=figsize)\n",
    "n_bins = 30\n",
    "\n",
    "def make_hist(ax):\n",
    "    for ct in cats:\n",
    "        logi = cat_df['category']==ct\n",
    "        ax.hist(cat_df.loc[logi,'some number'],n_bins,color=cat_map[ct],alpha=.3,linewidth=0,label=ct)\n",
    "    ax.legend()\n",
    "    return ax\n",
    "\n",
    "ax = make_hist(ax)\n",
    "ax.set_title(\"Histogram of 'some number' colored by category\")\n",
    "pass"
   ]
  },
  {
   "cell_type": "markdown",
   "metadata": {},
   "source": [
    "A decision tree is concerned with picking a split point on the 'some number' axis that'll create low impurity on either side of it. So if I were to put a line at the 5 point, I'd see this:"
   ]
  },
  {
   "cell_type": "code",
   "execution_count": 86,
   "metadata": {
    "collapsed": false
   },
   "outputs": [
    {
     "data": {
      "image/png": "[encoded data removed]",
      "text/plain": [
       "<matplotlib.figure.Figure at 0x2442249c550>"
      ]
     },
     "execution_count": 86,
     "metadata": {},
     "output_type": "execute_result"
    }
   ],
   "source": [
    "def Gini(cats):\n",
    "    cat_vals = set(cats)\n",
    "    gini = 0\n",
    "    for ct in cat_vals:\n",
    "        logi = cats == ct\n",
    "        gini += np.mean(logi)*(1-np.mean(logi))\n",
    "    return gini\n",
    "\n",
    "def GiniByLine(x):\n",
    "    logi = cat_df['some number'] < x\n",
    "    left = Gini(cat_df.category.values[logi])\n",
    "    right = Gini(cat_df.category.values[~logi])\n",
    "    return left, right\n",
    "\n",
    "split = 5\n",
    "ax.axvline(x=split,linewidth=3)\n",
    "gini_left, gini_right = GiniByLine(split)\n",
    "ax.text(-1,35,'Gini = '+str(gini_left)[:5],fontsize=15)\n",
    "ax.text(6,35,'Gini = '+str(gini_right)[:5],fontsize=15)\n",
    "fig"
   ]
  },
  {
   "cell_type": "markdown",
   "metadata": {},
   "source": [
    "So to evaluate a split point, we can take the average of the Gini on either side, yielding one number. Now let's do this for all possible split points and pick the one that yields the lowest average impurity on either side."
   ]
  },
  {
   "cell_type": "code",
   "execution_count": 100,
   "metadata": {
    "collapsed": false
   },
   "outputs": [
    {
     "name": "stdout",
     "output_type": "stream",
     "text": [
      "WRONG! IMPURITY IS NOT AVERAGED ACROSS SPLIT POINTS\n"
     ]
    }
   ],
   "source": [
    "print(\"WRONG! IMPURITY IS NOT AVERAGED ACROSS SPLIT POINTS\")"
   ]
  },
  {
   "cell_type": "code",
   "execution_count": 99,
   "metadata": {
    "collapsed": false
   },
   "outputs": [
    {
     "data": {
      "image/png": "[encoded data removed]",
      "text/plain": [
       "<matplotlib.figure.Figure at 0x244229d6668>"
      ]
     },
     "metadata": {},
     "output_type": "display_data"
    }
   ],
   "source": [
    "fig2 = plt.figure(2,figsize=figsize)\n",
    "\n",
    "ax2 = plt.subplot2grid((4, 3), (0, 0), colspan=3)\n",
    "ax3 = plt.subplot2grid((4, 3), (1, 0), colspan=3, rowspan=3)\n",
    "ax3 = make_hist(ax3)\n",
    "\n",
    "all_splits = np.linspace(*ax3.get_xlim(),100)\n",
    "ginis = pd.Series(map(lambda x: np.mean(GiniByLine(x)),all_splits),index=all_splits)\n",
    "ginis.plot(kind='line',ax=ax2)\n",
    "pass"
   ]
  },
  {
   "cell_type": "code",
   "execution_count": 90,
   "metadata": {
    "collapsed": false
   },
   "outputs": [
    {
     "data": {
      "text/plain": [
       "array([ -2.        ,  -1.85858586,  -1.71717172,  -1.57575758,\n",
       "        -1.43434343,  -1.29292929,  -1.15151515,  -1.01010101,\n",
       "        -0.86868687,  -0.72727273,  -0.58585859,  -0.44444444,\n",
       "        -0.3030303 ,  -0.16161616,  -0.02020202,   0.12121212,\n",
       "         0.26262626,   0.4040404 ,   0.54545455,   0.68686869,\n",
       "         0.82828283,   0.96969697,   1.11111111,   1.25252525,\n",
       "         1.39393939,   1.53535354,   1.67676768,   1.81818182,\n",
       "         1.95959596,   2.1010101 ,   2.24242424,   2.38383838,\n",
       "         2.52525253,   2.66666667,   2.80808081,   2.94949495,\n",
       "         3.09090909,   3.23232323,   3.37373737,   3.51515152,\n",
       "         3.65656566,   3.7979798 ,   3.93939394,   4.08080808,\n",
       "         4.22222222,   4.36363636,   4.50505051,   4.64646465,\n",
       "         4.78787879,   4.92929293,   5.07070707,   5.21212121,\n",
       "         5.35353535,   5.49494949,   5.63636364,   5.77777778,\n",
       "         5.91919192,   6.06060606,   6.2020202 ,   6.34343434,\n",
       "         6.48484848,   6.62626263,   6.76767677,   6.90909091,\n",
       "         7.05050505,   7.19191919,   7.33333333,   7.47474747,\n",
       "         7.61616162,   7.75757576,   7.8989899 ,   8.04040404,\n",
       "         8.18181818,   8.32323232,   8.46464646,   8.60606061,\n",
       "         8.74747475,   8.88888889,   9.03030303,   9.17171717,\n",
       "         9.31313131,   9.45454545,   9.5959596 ,   9.73737374,\n",
       "         9.87878788,  10.02020202,  10.16161616,  10.3030303 ,\n",
       "        10.44444444,  10.58585859,  10.72727273,  10.86868687,\n",
       "        11.01010101,  11.15151515,  11.29292929,  11.43434343,\n",
       "        11.57575758,  11.71717172,  11.85858586,  12.        ])"
      ]
     },
     "execution_count": 90,
     "metadata": {},
     "output_type": "execute_result"
    }
   ],
   "source": [
    "all_splits"
   ]
  },
  {
   "cell_type": "code",
   "execution_count": 88,
   "metadata": {
    "collapsed": false
   },
   "outputs": [
    {
     "data": {
      "text/plain": [
       "(-2.0, 12.0)"
      ]
     },
     "execution_count": 88,
     "metadata": {},
     "output_type": "execute_result"
    }
   ],
   "source": [
    "ax3.get_xlim()"
   ]
  },
  {
   "cell_type": "code",
   "execution_count": null,
   "metadata": {
    "collapsed": true
   },
   "outputs": [],
   "source": []
  }
 ],
 "metadata": {
  "kernelspec": {
   "display_name": "Python [Root]",
   "language": "python",
   "name": "Python [Root]"
  },
  "language_info": {
   "codemirror_mode": {
    "name": "ipython",
    "version": 3
   },
   "file_extension": ".py",
   "mimetype": "text/x-python",
   "name": "python",
   "nbconvert_exporter": "python",
   "pygments_lexer": "ipython3",
   "version": "3.5.2"
  }
 },
 "nbformat": 4,
 "nbformat_minor": 0
}
