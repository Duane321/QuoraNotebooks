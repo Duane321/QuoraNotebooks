{
 "cells": [
  {
   "cell_type": "markdown",
   "metadata": {},
   "source": [
    "### [Still need to determine the best question for this answer]"
   ]
  },
  {
   "cell_type": "markdown",
   "metadata": {},
   "source": [
    "\n",
    "* generative model of return vector: $\\mathbf{r} = \\boldsymbol{\\beta}\\cdot r_B + \\boldsymbol{\\theta}$\n",
    "* $var(\\mathbf{r}) = \\boldsymbol{\\beta}\\cdot \\sigma_B^2 \\cdot \\boldsymbol{\\beta}' + var(\\boldsymbol{\\theta})$\n",
    "* $\\mathbf{z}$ are our signals. One for each stock.\n",
    "* $\\mathbf{Q} = cov(\\boldsymbol{\\theta},\\mathbf{z})$, which tells us how predictive our signals are.\n",
    "* $\\mathbb{E}[\\boldsymbol{\\theta}|\\mathbf{z}]=0 + cov(\\boldsymbol{\\theta},\\mathbf{z})var(\\mathbf{z})^{-1}(z-\\mathbb{E}[z])$\n",
    "* $var(\\boldsymbol{\\theta}|\\mathbf{z}) = var(\\boldsymbol{\\theta}) - cov(\\boldsymbol{\\theta},\\mathbf{z}) var(\\mathbf{z})^{-1} cov(\\mathbf{z},\\boldsymbol{\\theta})$ \n",
    "\n",
    "* optimal portfolio: \n",
    "    * $\\mathbf{h}^* = \\textrm{argmax}_{\\mathbf{h}}\\big( \\mathbf{h}' \\mathbb{E}[\\boldsymbol{\\theta}|\\mathbf{z}] - \\lambda \\mathbf{h}' var(\\boldsymbol{\\theta}|\\mathbf{z}) \\mathbf{h}\\big)$\n",
    "    * $\\mathbf{h}^* =\\frac{1}{2\\lambda}var(\\boldsymbol{\\theta}|\\mathbf{z})^{-1}\\mathbb{E}[\\boldsymbol{\\theta}|\\mathbf{z}]$\n",
    "    * problem is.. this isn't unique necessarily\n",
    "* given the optimal portfolio, what's the expected return and risk?\n",
    "\n",
    "$$\n",
    "\\begin{align}\n",
    "\\mathbb{E}[\\mathbf{h}^T  \\mathbf{r}|\\mathbf{z}] = & \\mathbb{E}[\\big( \\frac{1}{2\\lambda}var(\\boldsymbol{\\theta}|\\mathbf{z})^{-1}\\mathbb{E}[\\boldsymbol{\\theta}|\\mathbf{z}] \\big)^T  \\big(\\boldsymbol{\\beta}\\cdot r_B + \\boldsymbol{\\theta}\\big)|\\mathbf{z}] \\\\\n",
    "\\end{align}\n",
    "$$\n",
    "\n",
    "    * $\\mathbb{E}[\\mathbf{h}^T  \\mathbf{r}|\\mathbf{z}]=$\n",
    "    * $var(\\mathbf{h}^T \\mathbf{r}|\\mathbf{z})$\n",
    "* We care about the information ratio *averaged over all signals*:\n",
    "    * $IR = \\int p(\\mathbf{z}) \\big( \\big) d \\mathbf{z}$"
   ]
  },
  {
   "cell_type": "markdown",
   "metadata": {},
   "source": [
    "Blah blah blah, let's simplify!\n",
    "\n",
    "* $\\mathbf{y}$ is our vector of bet outcomes\n",
    "* Unconditional expectation is zero: $\\mathbb{E}[\\mathbf{y}]=\\mathbf{0}$\n",
    "* Arbitrage variance $var(\\mathbf{y})$\n",
    "* A 'signal' for each element of $\\mathbf{y}$, call it $\\mathbf{z}$\n",
    "* We know $cov(\\mathbf{y},\\mathbf{z})$\n",
    "* We know $\\mathbb{E}[\\mathbf{z}]=\\mathbf{0}$ and $var(\\mathbf{z})$\n",
    "* We have:\n",
    "    * $\\mathbb{E}[\\mathbf{y}|\\mathbf{z}]=0 + cov(\\mathbf{y},\\mathbf{z})var(\\mathbf{z})^{-1}(z-\\mathbb{E}[z])$\n",
    "    * $var(\\mathbf{y}|\\mathbf{z}) = var(\\mathbf{y}) - cov(\\mathbf{y},\\mathbf{z}) var(\\mathbf{z})^{-1} cov(\\mathbf{z},\\mathbf{y})$\n",
    "* Optimal holding:\n",
    "\n",
    "* optimal portfolio: \n",
    "    * $\\mathbf{h}^* = \\textrm{argmax}_{\\mathbf{h}}\\big( \\mathbf{h}' \\mathbb{E}[\\mathbf{y}|\\mathbf{z}] - \\lambda \\mathbf{h}' var(\\mathbf{y}|\\mathbf{z}) \\mathbf{h}\\big)$\n",
    "    * $\\mathbf{h}^* =\\frac{1}{2\\lambda}var(\\mathbf{y}|\\mathbf{z})^{-1}\\mathbb{E}[\\mathbf{y}|\\mathbf{z}]$\n",
    "    * problem is.. this isn't unique necessarily\n",
    "* given the optimal portfolio, what's the expected return?\n",
    "\n",
    "$$\n",
    "\\begin{align}\n",
    "\\mathbb{E}[\\mathbf{h}^T  \\mathbf{y}|\\mathbf{z}] = & \\mathbb{E}[\\big( \\frac{1}{2\\lambda}var(\\mathbf{y}|\\mathbf{z})^{-1}\\mathbb{E}[\\mathbf{y}|\\mathbf{z}] \\big)^T  \\mathbf{y}|\\mathbf{z}] \\\\\n",
    "& = \\big( \\frac{1}{2\\lambda}var(\\mathbf{y}|\\mathbf{z})^{-1}\\mathbb{E}[\\mathbf{y}|\\mathbf{z}] \\big)^T \\mathbb{E}[ \\mathbf{y}|\\mathbf{z}] \\\\\n",
    "& = \\frac{1}{2\\lambda}\\mathbb{E}[\\mathbf{y}|\\mathbf{z}]^T var(\\mathbf{y}|\\mathbf{z})^{-1} \\mathbb{E}[ \\mathbf{y}|\\mathbf{z}] \\\\\n",
    "\\end{align}\n",
    "$$\n",
    "\n",
    "* given the optimal portfolio, what's the variance?\n",
    "\n",
    "$$\n",
    "\\begin{align}\n",
    "var(\\mathbf{h}^T  \\mathbf{y}|\\mathbf{z}) & =  \\mathbf{h}^T var(\\mathbf{y}|\\mathbf{z}) \\mathbf{h} \\\\\n",
    "& =  \\big( \\frac{1}{2\\lambda}var(\\mathbf{y}|\\mathbf{z})^{-1}\\mathbb{E}[\\mathbf{y}|\\mathbf{z}] \\big)^T var(\\mathbf{y}|\\mathbf{z}) \\frac{1}{2\\lambda}var(\\mathbf{y}|\\mathbf{z})^{-1}\\mathbb{E}[\\mathbf{y}|\\mathbf{z}] \\\\\n",
    "& =  \\frac{1}{4\\lambda^2}\\mathbb{E}[\\mathbf{y}|\\mathbf{z}]^T var(\\mathbf{y}|\\mathbf{z})^{-1}\\mathbb{E}[\\mathbf{y}|\\mathbf{z}]\\\\\n",
    "\\end{align}\n",
    "$$\n",
    "\n",
    "* Now we have the nice relation:\n",
    "\n",
    "$$\n",
    "var(\\mathbf{h}^T  \\mathbf{y}|\\mathbf{z}) = \\frac{1}{2\\lambda} \\mathbb{E}[\\mathbf{h}^T  \\mathbf{y}|\\mathbf{z}]\n",
    "$$\n",
    "\n",
    "* So what's the conditional information ratio?\n",
    "\n",
    "$$\n",
    "\\begin{align}\n",
    "IR|\\mathbf{z} & = \\frac{\\mathbb{E}[\\mathbf{h}^T  \\mathbf{y}|\\mathbf{z}]}{\\sqrt{var(\\mathbf{h}^T  \\mathbf{y}|\\mathbf{z})}} \\\\\n",
    "\\implies IR^2|\\mathbf{z} & = \\frac{\\mathbb{E}[\\mathbf{h}^T  \\mathbf{y}|\\mathbf{z}]^2}{\\frac{1}{2\\lambda} \\mathbb{E}[\\mathbf{h}^T  \\mathbf{y}|\\mathbf{z}]} \\\\\n",
    "& = 2\\lambda \\mathbb{E}[\\mathbf{h}^T  \\mathbf{y}|\\mathbf{z}]\\\\\n",
    "& = \\mathbb{E}[\\mathbf{y}|\\mathbf{z}]^T var(\\mathbf{y}|\\mathbf{z})^{-1} \\mathbb{E}[ \\mathbf{y}|\\mathbf{z}]\\\\\n",
    "& = \\Big(cov(\\mathbf{y},\\mathbf{z})var(\\mathbf{z})^{-1}(z-\\mathbb{E}[z])\\Big)^T \\Big(var(\\mathbf{y}) - cov(\\mathbf{y},\\mathbf{z}) var(\\mathbf{z})^{-1} cov(\\mathbf{z},\\mathbf{y})\\Big)^{-1}\\Big(cov(\\mathbf{y},\\mathbf{z})var(\\mathbf{z})^{-1}(z-\\mathbb{E}[z])\\Big)\\\\\n",
    "& = \\textrm{Tr}\\Bigg( \\Big(cov(\\mathbf{y},\\mathbf{z})var(\\mathbf{z})^{-1}(z-\\mathbb{E}[z])\\Big) \\Big(cov(\\mathbf{y},\\mathbf{z})var(\\mathbf{z})^{-1}(z-\\mathbb{E}[z])\\Big)^T \\Big(var(\\mathbf{y}) - cov(\\mathbf{y},\\mathbf{z}) var(\\mathbf{z})^{-1} cov(\\mathbf{z},\\mathbf{y})\\Big)^{-1} \\Bigg) \\\\\n",
    "& = \\textrm{Tr}\\Bigg( cov(\\mathbf{y},\\mathbf{z})var(\\mathbf{z})^{-1}(z-\\mathbb{E}[z])(z-\\mathbb{E}[z])^Tvar(\\mathbf{z})^{-1} cov(\\mathbf{y},\\mathbf{z})^T \\Big(var(\\mathbf{y}) - cov(\\mathbf{y},\\mathbf{z}) var(\\mathbf{z})^{-1} cov(\\mathbf{z},\\mathbf{y})\\Big)^{-1} \\Bigg) \\\\\n",
    "\\end{align}\n",
    "$$\n",
    "\n",
    "Ok, different approach:\n",
    "\n",
    "$$\n",
    "\\begin{align}\n",
    "IR|\\mathbf{z}^2 & = \\mathbb{E}[\\mathbf{y}|\\mathbf{z}]^T var(\\mathbf{y}|\\mathbf{z})^{-1} \\mathbb{E}[ \\mathbf{y}|\\mathbf{z}]\\\\\n",
    "& = \\Big(cov(\\mathbf{y},\\mathbf{z})var(\\mathbf{z})^{-1}(z-\\mathbb{E}[z])\\Big)^T \\Big(var(\\mathbf{y}) - cov(\\mathbf{y},\\mathbf{z}) var(\\mathbf{z})^{-1} cov(\\mathbf{z},\\mathbf{y})\\Big)^{-1}\\Big(cov(\\mathbf{y},\\mathbf{z})var(\\mathbf{z})^{-1}(z-\\mathbb{E}[z])\\Big)\\\\\n",
    "& \\approx \\Big(cov(\\mathbf{y},\\mathbf{z})var(\\mathbf{z})^{-1}(z-\\mathbb{E}[z])\\Big)^T \\Big(var(\\mathbf{y})\\Big)^{-1}\\Big(cov(\\mathbf{y},\\mathbf{z})var(\\mathbf{z})^{-1}(z-\\mathbb{E}[z])\\Big)\\\\\n",
    "& = \\textrm{Tr}\\Bigg( cov(\\mathbf{y},\\mathbf{z})var(\\mathbf{z})^{-1}(z-\\mathbb{E}[z])(z-\\mathbb{E}[z])^Tvar(\\mathbf{z})^{-1} cov(\\mathbf{y},\\mathbf{z})^Tvar(\\mathbf{y})^{-1} \\Bigg) \\\\\n",
    "\\end{align}\n",
    "$$\n",
    "\n",
    "Take expectations...\n",
    "\n",
    "$$\n",
    "\\begin{align}\n",
    "\\int p(\\mathbf{z}) \\big(IR^2|\\mathbf{z}\\big) d\\mathbf{z} & = \\textrm{Tr}\\Bigg( cov(\\mathbf{y},\\mathbf{z})var(\\mathbf{z})^{-1}var(\\mathbf{z})var(\\mathbf{z})^{-1} cov(\\mathbf{y},\\mathbf{z})^Tvar(\\mathbf{y})^{-1} \\Bigg) \\\\\n",
    "& = \\textrm{Tr}\\Bigg( cov(\\mathbf{y},\\mathbf{z})var(\\mathbf{z})^{-1}cov(\\mathbf{y},\\mathbf{z})^Tvar(\\mathbf{y})^{-1} \\Bigg) \\\\\n",
    "\\end{align}\n",
    "$$\n",
    "\n",
    "This is the answer! Just write this in terms of the correlation matrix.\n"
   ]
  },
  {
   "cell_type": "markdown",
   "metadata": {},
   "source": [
    "The thing to realize here is that these pieces have terms in common and we need to rewrite them in those terms, so they can cancel. To do that, we will speak in terms of *correlation matrices* [link], in much the same way we did covariance matrices previous. Then we define:\n",
    "\n",
    "* $\\mathbf{S}_\\mathbf{z}=$ Diagonal matrix with standard deviations of $\\mathbf{z}$ across the diagonal.\n",
    "* $\\mathbf{S}_\\mathbf{y}=$ Diagonal matrix with standard deviations of $\\mathbf{y}$ across the diagonal.\n",
    "\n",
    "Now let's force these terms into the pieces we saw in our final expression of IR.\n",
    "\n",
    "$$\n",
    "\\begin{align}\n",
    "\\textrm{cov}(\\mathbf{y},\\mathbf{z}) = & \\mathbf{S}_\\mathbf{y} \\textrm{corr}(\\mathbf{y},\\mathbf{z})\\mathbf{S}_\\mathbf{z}\\\\\n",
    "\\textrm{var}(\\mathbf{y}) = & \\mathbf{S}_\\mathbf{y} \\textrm{corr}(\\mathbf{y})\\mathbf{S}_\\mathbf{y}\\\\\n",
    "\\textrm{var}(\\mathbf{z}) = & \\mathbf{S}_\\mathbf{z} \\textrm{corr}(\\mathbf{z})\\mathbf{S}_\\mathbf{z}\\\\\n",
    "\\end{align}\n",
    "$$\n",
    "\n",
    "Notice how these pieces now share other pieces in common. Let's see if that helps us:\n",
    "\n",
    "$$\n",
    "\\begin{align}\n",
    "\\textrm{IR} & = \\textrm{Tr}\\big(\\textrm{cov}(\\mathbf{y},\\mathbf{z})\\textrm{var}(\\mathbf{z})^{-1}\\textrm{cov}(\\mathbf{y},\\mathbf{z})^T\\textrm{var}(\\mathbf{y})^{-1}\\big)\\\\\n",
    "& = \\textrm{Tr}\\big(\\big(\\mathbf{S}_\\mathbf{y} \\textrm{corr}(\\mathbf{y},\\mathbf{z})\\mathbf{S}_\\mathbf{z}\\big)\\big(\\mathbf{S}_\\mathbf{z} \\textrm{corr}(\\mathbf{z})\\mathbf{S}_\\mathbf{z}\\big)^{-1}\\big(\\mathbf{S}_\\mathbf{y} \\textrm{corr}(\\mathbf{y},\\mathbf{z})\\mathbf{S}_\\mathbf{z}\\big)^T\\big(\\mathbf{S}_\\mathbf{y} \\textrm{corr}(\\mathbf{y})\\mathbf{S}_\\mathbf{y}\\big)^{-1}\\big)\\\\\n",
    "& = \\textrm{Tr}\\big(\\big(\\mathbf{S}_\\mathbf{y} \\textrm{corr}(\\mathbf{y},\\mathbf{z})\\mathbf{S}_\\mathbf{z}\\big)\\big(\\mathbf{S}_\\mathbf{z} \\textrm{corr}(\\mathbf{z})\\mathbf{S}_\\mathbf{z}\\big)^{-1}\\big(\\mathbf{S}_\\mathbf{y} \\textrm{corr}(\\mathbf{y},\\mathbf{z})\\mathbf{S}_\\mathbf{z}\\big)^T\\big(\\mathbf{S}_\\mathbf{y} \\textrm{corr}(\\mathbf{y})\\mathbf{S}_\\mathbf{y}\\big)^{-1}\\big)\\\\\n",
    "\\end{align}\n",
    "$$"
   ]
  },
  {
   "cell_type": "markdown",
   "metadata": {},
   "source": [
    "In a situation like this, it's a good idea to write these pieces in as many identical pieces as possible. That way, you can hope to get some downstream cancellation. To do that, let's write these in the context of a covariance matrix of the concatenation of $\\mathbf{y}$ and $\\mathbf{z}$:\n",
    "\n",
    "$$\n",
    "\\textrm{var}\\big(\\left[\\begin{array}{c}\n",
    "\\mathbf{y}\\\\\n",
    "\\mathbf{z}\n",
    "\\end{array}\\right]\\big)=\\left[\\begin{array}{cc}\n",
    "\\textrm{var}(\\mathbf{y}) & \\textrm{cov}(\\mathbf{y},\\mathbf{z})\\\\\n",
    "\\textrm{cov}(\\mathbf{z},\\mathbf{y}) & \\textrm{var}(\\mathbf{z})\n",
    "\\end{array}\\right]\n",
    "$$\n",
    "\n",
    "Just like any other covariance matrix, we can apply an eigenvalue decomposition:\n",
    "\n",
    "$$\n",
    "\\textrm{var}\\big(\\left[\\begin{array}{c}\n",
    "\\mathbf{y}\\\\\n",
    "\\mathbf{z}\n",
    "\\end{array}\\right]\\big) = \\mathbf{Q}\\boldsymbol{\\Lambda}\\mathbf{Q}^T\n",
    "$$\n",
    "\n",
    "$\\mathbf{Q}$ is a square matrix, where the top half is associated with $\\mathbf{y}$ and the bottom is associated with $\\mathbf{z}$. So we can label according to those pieces:\n",
    "\n",
    "$$\n",
    "\\mathbf{Q}=\\left[\\begin{array}{c}\n",
    "\\mathbf{Q}_\\mathbf{y}\\\\\n",
    "\\mathbf{Q}_\\mathbf{z}\n",
    "\\end{array}\\right]\n",
    "$$\n",
    "\n",
    "Since $\\mathbf{Q}\\mathbf{Q}^T=\\mathbf{I}$ and $\\mathbf{Q}^T\\mathbf{Q}=\\mathbf{I}$, we have:\n",
    "\n",
    "$$\n",
    "\\begin{align}\n",
    "\\mathbf{Q}_\\mathbf{y}\\mathbf{Q}_\\mathbf{y}^T= &\\mathbf{I}\\\\\n",
    "\\mathbf{Q}_\\mathbf{z}\\mathbf{Q}_\\mathbf{z}^T= &\\mathbf{I}\\\\\n",
    "\\mathbf{Q}_\\mathbf{z}\\mathbf{Q}_\\mathbf{y}^T= &\\mathbf{0}\\\\\n",
    "\\mathbf{Q}_\\mathbf{y}\\mathbf{Q}_\\mathbf{z}^T= &\\mathbf{0}\\\\\n",
    "\\mathbf{Q}_\\mathbf{y}^T\\mathbf{Q}_\\mathbf{y} + \\mathbf{Q}_\\mathbf{z}^T\\mathbf{Q}_\\mathbf{z} = &\\mathbf{I}\\\\\n",
    "\\end{align}\n",
    "$$\n",
    "\n",
    "\n",
    "with that, let's rewrite that fat covariance in these terms:\n",
    "\n",
    "$$\n",
    "\\begin{align}\n",
    "\\textrm{var}\\big(\\left[\\begin{array}{c}\n",
    "\\mathbf{y}\\\\\n",
    "\\mathbf{z}\n",
    "\\end{array}\\right]\\big)=&\\left[\\begin{array}{cc}\n",
    "\\textrm{var}(\\mathbf{y}) & \\textrm{cov}(\\mathbf{y},\\mathbf{z})\\\\\n",
    "\\textrm{cov}(\\mathbf{z},\\mathbf{y}) & \\textrm{var}(\\mathbf{z})\n",
    "\\end{array}\\right]\\\\\n",
    "=&\\left[\\begin{array}{cc}\n",
    "\\mathbf{Q}_\\mathbf{y}\\boldsymbol{\\Lambda}\\mathbf{Q}_\\mathbf{y}^T & \\mathbf{Q}_\\mathbf{y}\\boldsymbol{\\Lambda}\\mathbf{Q}_\\mathbf{z}^T\\\\\n",
    "\\mathbf{Q}_\\mathbf{z}\\boldsymbol{\\Lambda}\\mathbf{Q}_\\mathbf{y}^T & \\mathbf{Q}_\\mathbf{z}\\boldsymbol{\\Lambda}\\mathbf{Q}_\\mathbf{z}^T\n",
    "\\end{array}\\right]\n",
    "\\end{align}\n",
    "$$\n",
    "\n",
    "Great, they have a ton in common. Let's see if we can figure out what's inside the trace:\n",
    "\n",
    "$$\n",
    "\\begin{align}\n",
    "\\textrm{cov}(\\mathbf{y},\\mathbf{z})\\textrm{var}(\\mathbf{z})^{-1}\\textrm{cov}(\\mathbf{y},\\mathbf{z})^T\\textrm{var}(\\mathbf{y})^{-1} & = \\big(\\mathbf{Q}_\\mathbf{y}\\boldsymbol{\\Lambda}\\mathbf{Q}_\\mathbf{z}^T\\big)\\big(\\mathbf{Q}_\\mathbf{z}\\boldsymbol{\\Lambda}^{-1}\\mathbf{Q}_\\mathbf{z}^T\\big)\\big(\\mathbf{Q}_\\mathbf{z}\\boldsymbol{\\Lambda}\\mathbf{Q}_\\mathbf{y}^T\\big)\\big(\\mathbf{Q}_\\mathbf{y}\\boldsymbol{\\Lambda}^{-1}\\mathbf{Q}_\\mathbf{y}^T\\big) \\\\\n",
    "\\end{align}\n",
    "$$"
   ]
  },
  {
   "cell_type": "markdown",
   "metadata": {},
   "source": [
    "### Some general requirements\n",
    "\n",
    "* Needs to be visual\n",
    "* Needs to be short!\n",
    "* Needs to get the point across: This is how you should think about your bets: frequent, predictive and uncorrelated.\n",
    "\n",
    "\n",
    "### The data/variables\n",
    "\n",
    "* ??\n",
    "\n",
    "\n",
    "### Outline\n",
    "\n",
    "1."
   ]
  },
  {
   "cell_type": "markdown",
   "metadata": {},
   "source": [
    "### The Question: What are the most useful money investment and saving tricks?\n",
    "\n",
    "Some notes:\n",
    "\n",
    "- When I see 'you', that 'you' should be consistent throughout the whole answer. So it shouldn't be the player.\n"
   ]
  },
  {
   "cell_type": "code",
   "execution_count": 1,
   "metadata": {
    "collapsed": false
   },
   "outputs": [],
   "source": [
    "import numpy as np\n",
    "import pandas as pd\n",
    "import matplotlib.patches as patches\n",
    "\n",
    "np.random.seed(1)\n",
    "\n",
    "from scipy import random, linalg\n",
    "\n",
    "def GenCovs(size=5,cov_factor=.2):\n",
    "    \n",
    "    A = (random.rand(size*2,size*2) - .5)*2\n",
    "    COV = np.dot(A,A.transpose())\n",
    "\n",
    "    y_bool = np.array([True]*size + [False]*size)\n",
    "\n",
    "    cov_y = COV[y_bool,:][:,y_bool]\n",
    "    cov_z = COV[~y_bool,:][:,~y_bool]\n",
    "    cov_yz = COV[y_bool,:][:,~y_bool]*cov_factor\n",
    "    cov_zy = cov_yz.T\n",
    "    \n",
    "    COV = np.block([[cov_y,cov_yz],\n",
    "                [cov_zy,cov_z]])\n",
    "    \n",
    "    return COV, cov_y, cov_z, cov_yz, cov_zy\n",
    "\n",
    "COV, cov_y, cov_z, cov_yz, cov_zy = GenCovs(3,.2)"
   ]
  },
  {
   "cell_type": "code",
   "execution_count": 2,
   "metadata": {
    "collapsed": false
   },
   "outputs": [
    {
     "data": {
      "text/plain": [
       "0.029865895984153307"
      ]
     },
     "execution_count": 2,
     "metadata": {},
     "output_type": "execute_result"
    }
   ],
   "source": [
    "def Ey_given_z(z):\n",
    "    return cov_yz.dot(np.linalg.inv(cov_z).dot(z))\n",
    "\n",
    "def Cov_y_given_z():\n",
    "    return cov_y - cov_yz.dot(np.linalg.inv(cov_z)).dot(cov_zy)\n",
    "\n",
    "def Cov_y_given_z():\n",
    "    return cov_y\n",
    "\n",
    "def IR_rand_z():\n",
    "    z = np.random.multivariate_normal(np.array([0,0,0]),cov_z)\n",
    "    return Ey_given_z(z).dot(np.linalg.inv(Cov_y_given_z())).dot(Ey_given_z(z).T)\n",
    "    \n",
    "def Trace(X):\n",
    "    return np.sum(np.diag(X))\n",
    "    \n",
    "samps = 10000\n",
    "IR_squared = 0\n",
    "\n",
    "for _ in range(samps):\n",
    "    IR_squared += IR_rand_z()/samps\n",
    "      \n",
    "IR_squared"
   ]
  },
  {
   "cell_type": "code",
   "execution_count": 3,
   "metadata": {
    "collapsed": false
   },
   "outputs": [
    {
     "data": {
      "text/plain": [
       "0.029948130494530122"
      ]
     },
     "execution_count": 3,
     "metadata": {},
     "output_type": "execute_result"
    }
   ],
   "source": [
    "IR_analytic = Trace(cov_yz.dot(np.linalg.inv(cov_z)).dot(cov_zy).dot(np.linalg.inv(cov_y)))\n",
    "IR_analytic"
   ]
  },
  {
   "cell_type": "code",
   "execution_count": 4,
   "metadata": {
    "collapsed": false
   },
   "outputs": [
    {
     "data": {
      "text/plain": [
       "(array([ 6.21494842,  1.27823971,  0.44756406]),\n",
       " array([[ 0.48196077, -0.86439849,  0.14327968],\n",
       "        [-0.74538315, -0.31853272,  0.58561153],\n",
       "        [ 0.46056246,  0.38904005,  0.79782834]]))"
      ]
     },
     "execution_count": 4,
     "metadata": {},
     "output_type": "execute_result"
    }
   ],
   "source": [
    "cov_z_eig = np.linalg.eig(cov_z)\n",
    "cov_z_eig"
   ]
  },
  {
   "cell_type": "code",
   "execution_count": 5,
   "metadata": {
    "collapsed": true
   },
   "outputs": [],
   "source": [
    "cov_y_eig = np.linalg.eig(cov_y)"
   ]
  },
  {
   "cell_type": "code",
   "execution_count": 6,
   "metadata": {
    "collapsed": false
   },
   "outputs": [
    {
     "data": {
      "text/plain": [
       "0.029948130494530132"
      ]
     },
     "execution_count": 6,
     "metadata": {},
     "output_type": "execute_result"
    }
   ],
   "source": [
    "corr_yz = np.diag(1/np.sqrt(cov_z_eig[0])).dot(cov_z_eig[1].T).dot(cov_zy).dot(cov_y_eig[1]).dot(np.diag(1/np.sqrt(cov_y_eig[0])))\n",
    "corr_zy = corr_yz.T\n",
    "Trace(corr_yz.dot(corr_zy))"
   ]
  },
  {
   "cell_type": "markdown",
   "metadata": {},
   "source": [
    "### Is my decomposition correct?"
   ]
  },
  {
   "cell_type": "code",
   "execution_count": 7,
   "metadata": {
    "collapsed": false
   },
   "outputs": [],
   "source": [
    "# def reconstruct_cov(left_bool,right_bool,inverse=False):\n",
    "#     if not inverse:\n",
    "#         return COV_eig[1][left_bool,:].dot(np.diag(COV_eig[0])).dot(COV_eig[1][right_bool,:].T)\n",
    "#     else:\n",
    "#         return COV_eig[1][left_bool,:].dot(np.diag(1/COV_eig[0])).dot(COV_eig[1][right_bool,:].T)\n",
    "# # reconstruct_cov(y_bool,~y_bool)"
   ]
  },
  {
   "cell_type": "code",
   "execution_count": 8,
   "metadata": {
    "collapsed": false
   },
   "outputs": [],
   "source": [
    "# cov_yz_recon = reconstruct_cov(y_bool,~y_bool)\n",
    "# cov_y_inv_recon = reconstruct_cov(y_bool,y_bool,True)\n",
    "# cov_z_inv_recon = reconstruct_cov(~y_bool,~y_bool,True)\n",
    "# cov_zy_recon = reconstruct_cov(~y_bool,y_bool)\n",
    "\n",
    "# IR_analytic2 = Trace(cov_yz_recon.dot(cov_z_inv_recon).dot(cov_zy_recon).dot(cov_y_inv_recon))\n",
    "# IR_analytic2"
   ]
  },
  {
   "cell_type": "code",
   "execution_count": 9,
   "metadata": {
    "collapsed": false
   },
   "outputs": [],
   "source": [
    "# Qy = COV_eig[1][y_bool,:]\n",
    "# Qz = COV_eig[1][~y_bool,:]\n",
    "# Lambda = np.diag(COV_eig[0])\n",
    "# Lambda_inv = np.diag(1/COV_eig[0])\n",
    "\n",
    "# cov_yz_recon = Qy.dot(Lambda).dot(Qz.T)\n",
    "# cov_y_inv_recon = Qy.dot(Lambda_inv).dot(Qy.T)\n",
    "# cov_z_inv_recon = Qz.dot(Lambda_inv).dot(Qz.T)\n",
    "# cov_zy_recon = Qz.dot(Lambda).dot(Qy.T)\n",
    "\n",
    "# IR_analytic3 = Trace(cov_yz_recon.dot(cov_z_inv_recon).dot(cov_zy_recon).dot(cov_y_inv_recon))\n",
    "# IR_analytic3"
   ]
  },
  {
   "cell_type": "code",
   "execution_count": 10,
   "metadata": {
    "collapsed": false
   },
   "outputs": [],
   "source": [
    "# check = (Lambda_inv).dot(Qz.T).dot(Qz).dot(Lambda)\n",
    "# pd.DataFrame(check)"
   ]
  },
  {
   "cell_type": "code",
   "execution_count": 11,
   "metadata": {
    "collapsed": false
   },
   "outputs": [],
   "source": [
    "# IR_mat = Qy.dot(Lambda).dot(Qz.T).dot(Qz).dot(Lambda_inv).dot(Qz.T).dot(Qz).dot(Lambda).dot(Qy.T).dot(Qy).dot(Lambda_inv).dot(Qy.T)\n",
    "# Trace(IR_mat)"
   ]
  },
  {
   "cell_type": "code",
   "execution_count": 12,
   "metadata": {
    "collapsed": false
   },
   "outputs": [],
   "source": [
    "# pd.DataFrame(Qy.T.dot(Qy) + Qz.T.dot(Qz))"
   ]
  },
  {
   "cell_type": "code",
   "execution_count": 13,
   "metadata": {
    "collapsed": false
   },
   "outputs": [],
   "source": [
    "# pd.DataFrame(COV_eig[1].dot(COV_eig[1].T))\n",
    "# pd.DataFrame(COV_eig[1].T.dot(COV_eig[1]))"
   ]
  },
  {
   "cell_type": "code",
   "execution_count": 14,
   "metadata": {
    "collapsed": false
   },
   "outputs": [],
   "source": [
    "# IR_analytic3 = Trace((Qy.dot(Lambda).dot(Qz.T)).dot(Qz.dot(Lambda_inv).dot(Qz.T)).dot(Qz.dot(Lambda).dot(Qy.T)).dot(Qy.dot(Lambda_inv).dot(Qy.T)))\n",
    "# IR_analytic3"
   ]
  },
  {
   "cell_type": "code",
   "execution_count": 15,
   "metadata": {
    "collapsed": false
   },
   "outputs": [],
   "source": [
    "# S_z = np.diag(1/np.sqrt(np.diag(cov_z)))\n",
    "# S_y = np.diag(1/np.sqrt(np.diag(cov_y)))\n",
    "\n",
    "# corr_zy = S_z.dot(cov_zy).dot(S_y)\n",
    "# corr_zy"
   ]
  },
  {
   "cell_type": "code",
   "execution_count": 16,
   "metadata": {
    "collapsed": false
   },
   "outputs": [],
   "source": [
    "# corr_zy_svd = np.linalg.svd(corr_zy)\n",
    "# corr_zy_svd"
   ]
  },
  {
   "cell_type": "markdown",
   "metadata": {
    "collapsed": true
   },
   "source": [
    "### Final Answer\n",
    "\n",
    "I can tell you a fairly powerful one. It's a way of decomposing an investment strategy into two core components which drive the only thing that matters: risk adjusted returns. One of the original derivers of this result, Ronald Kahn, is the current head of Scientific Active Equities at BlackRock, and it's, unsurprisingly, a primary lens of theirs for evaluating strategies. It's called the Fundamental Law of Active Management. Since hundreds of billions of dollars rely on the soundness of this result, I think we can to.\n",
    "\n",
    "To understand it, we'll have to use a bit of math. To make it digestible, I'll analogize an investment strategy as a game played by an 'optimal' player. Different games (not different players) imply different strategies. This will become more clear as we go.\n",
    "\n",
    "At the same time, I'm not going to simplify it. A simplified version is a useless version. The big boys use it in all it's complicated glory, so we will too. If you make it to the end of this, you'll have a broadly applicable and surprisingly simple tool of analysis. With a short description of a list of strategies, you'll be able to rank order them with reasonable accuracy.\n",
    "\n",
    "Let's get into it."
   ]
  },
  {
   "cell_type": "markdown",
   "metadata": {},
   "source": [
    "### The Game\n",
    "\n",
    "A player is faced with some number of bets. The outcome of each bet is a normally distributed number with an average of 0. All of them are potentially correlated. We can picture a set of outcomes as a set of vertical bars, like this:"
   ]
  },
  {
   "cell_type": "code",
   "execution_count": 17,
   "metadata": {
    "collapsed": false
   },
   "outputs": [
    {
     "data": {
      "image/png": "[encoded data removed]",
      "text/plain": [
       "<matplotlib.figure.Figure at 0x12a43de0390>"
      ]
     },
     "metadata": {},
     "output_type": "display_data"
    }
   ],
   "source": [
    "# This is a graph of five sliders - horizontal lines with markers at zero that represent 5 samples from a normal distribution.\n",
    "# Positive numbers are green and negative numbers are red.\n",
    "\n",
    "import matplotlib.pyplot as plt\n",
    "%matplotlib inline\n",
    "\n",
    "plt.style.use('fivethirtyeight')\n",
    "\n",
    "size = 5\n",
    "seed = 3\n",
    "np.random.seed(10)\n",
    "COV, cov_y, cov_z, cov_yz, cov_zy = GenCovs(size,.6)\n",
    "\n",
    "def make_draw():\n",
    "    draw = np.random.multivariate_normal(np.array([0]*size*2),COV)\n",
    "    \n",
    "    y_bool = np.array([True]*size + [False]*size)\n",
    "    y = draw[y_bool]\n",
    "    z = draw[~y_bool]\n",
    "    return y, z\n",
    "\n",
    "y_draw, z_draw = make_draw()\n",
    "\n",
    "def set_game(ax):\n",
    "    ax.spines['bottom'].set_visible(False)\n",
    "    ax.spines['top'].set_visible(False)\n",
    "    ax.spines['left'].set_visible(False)\n",
    "    ax.spines['right'].set_visible(False)\n",
    "    ax.get_xaxis().set_visible(False)\n",
    "    ax.get_yaxis().set_visible(False)\n",
    "    return ax\n",
    "\n",
    "fig, ax = plt.subplots(figsize=(6,4))\n",
    "ax = set_game(ax)\n",
    "\n",
    "ylims = (-2.5,1.5)\n",
    "ax.set_ylim(*ylims)\n",
    "\n",
    "uparrow = dict(arrowstyle=\"-\",color='green',alpha=1,linewidth=2)\n",
    "downarrow = uparrow.copy()\n",
    "downarrow['color'] = 'red'\n",
    "\n",
    "diff = 1/(size+1)\n",
    "for i in range(size):\n",
    "    xp = (i+1)*diff\n",
    "    txt = str(y_draw[i])[:4]\n",
    "    if y_draw[i] < 0:\n",
    "        ax.annotate('',xy=(xp,0),xytext=(xp,y_draw[i]),arrowprops=downarrow)\n",
    "        ax.text(xp,y_draw[i]-.4,txt,va='center',ha='center',fontsize=10)\n",
    "    else:\n",
    "        ax.annotate('',xy=(xp,0),xytext=(xp,y_draw[i]),arrowprops=uparrow)\n",
    "        ax.text(xp,y_draw[i]+.4,txt,va='center',ha='center',fontsize=10)\n",
    "    ax.text(xp,-2.4,'Bet ' + str(i+1),va='center',ha='center',fontsize=10)\n",
    "\n",
    "ax.axhline(ls='--',color='black',linewidth=2,alpha=.25)\n",
    "plt.savefig('GameOut.png',dpi=500)\n",
    "pass"
   ]
  },
  {
   "cell_type": "markdown",
   "metadata": {},
   "source": [
    "Let's call this random vector of numbers $\\mathbf{y}$.\n",
    "\n",
    "The player picks a number for each bet (call this number the 'holding') before seeing the bet outcomes. Their goal is to select holdings such that the product of their holdings and the bet outcomes is highest when summed across all bets. If you imagine a 'holding' as a horizontal line across the axis for each bet, you can picture the outcome like this (a negative holding is draw to the *left* of the outcome line):"
   ]
  },
  {
   "cell_type": "code",
   "execution_count": 18,
   "metadata": {
    "collapsed": false
   },
   "outputs": [
    {
     "data": {
      "image/png": "[encoded data removed]",
      "text/plain": [
       "<matplotlib.figure.Figure at 0x12a44b1cdd8>"
      ]
     },
     "metadata": {},
     "output_type": "display_data"
    }
   ],
   "source": [
    "holdarrow = uparrow.copy()\n",
    "holdarrow['color'] = 'black'\n",
    "\n",
    "fig, ax = plt.subplots(figsize=(8,4))\n",
    "ax = set_game(ax)\n",
    "\n",
    "def game_on_ax(ax,holdings,y_draw,ylims = (-3,3.5),label=True):\n",
    "    ax.set_ylim(*ylims)\n",
    "    ax.axhline(ls='--',color='black',linewidth=1,alpha=.25)\n",
    "    for i in range(len(y_draw)):\n",
    "        xp = (i+1)*diff\n",
    "        txt = str(y_draw[i])[:4]\n",
    "        win = holdings[i]*y_draw[i]\n",
    "        if win < 0:\n",
    "            ax.annotate('',xy=(xp,0),xytext=(xp,y_draw[i]),arrowprops=downarrow)\n",
    "            clr = 'red'\n",
    "        else:\n",
    "            ax.annotate('',xy=(xp,0),xytext=(xp,y_draw[i]),arrowprops=uparrow)\n",
    "            clr = 'green'\n",
    "        ax.annotate('',xy=(xp,0),xytext=(xp+holdings[i],0),arrowprops=holdarrow)\n",
    "        ax.add_patch(patches.Rectangle((xp,0),holdings[i],y_draw[i],alpha=.2,color=clr,edgecolor=None))\n",
    "        if label:\n",
    "            ax.text(xp,ylims[0],'Bet ' + str(i+1),va='center',ha='center',fontsize=10)\n",
    "    return ax\n",
    "\n",
    "ax = game_on_ax(ax,[0.05]*size,y_draw)\n",
    "ax.set_title('Holdings = 1')\n",
    "    \n",
    "# ax.axhline(ls='--',color='black',linewidth=2,alpha=.25)\n",
    "plt.savefig('GameOutWithH.png',dpi=300)"
   ]
  },
  {
   "cell_type": "markdown",
   "metadata": {},
   "source": [
    "We want to maximize the green, while minimizing the red.\n",
    "\n",
    "Let's call this vector of holdings $\\mathbf{h}$, so we can represent the game outcome as $\\mathbf{h}^T\\mathbf{y}$, which is the sum of the areas you see. We'll refer to this as the player's 'winnings'.\n",
    "\n",
    "As this game is currently presented, there is nothing the player can do to improve their winnings. So let's provide some help. Let's say that before each bet, they get a signal about each bet outcome. This is just another number (which averages to zero) that they get to see before the bet outcome and that correlates with the bet outcome. So now we can picture the game, more fully, like this:"
   ]
  },
  {
   "cell_type": "code",
   "execution_count": 19,
   "metadata": {
    "collapsed": false
   },
   "outputs": [
    {
     "data": {
      "image/png": "[encoded data removed]",
      "text/plain": [
       "<matplotlib.figure.Figure at 0x12a4378c7b8>"
      ]
     },
     "metadata": {},
     "output_type": "display_data"
    }
   ],
   "source": [
    "zarrow = uparrow.copy()\n",
    "zarrow['color'] = 'blue'\n",
    "\n",
    "def game_w_z_on_ax(ax,holdings,y_draw,ylims,signals,label=True,betlabel=True):\n",
    "    ax = game_on_ax(ax,holdings,y_draw,ylims,label=betlabel)\n",
    "    ax.set_ylim(ylims[0],ylims[1]*2)\n",
    "    offset = ylims[1] + 1\n",
    "    ax.axhline(ls='--',y=offset,color='black',linewidth=1,alpha=.25)\n",
    "    \n",
    "    for i in range(len(signals)):\n",
    "        xp = (i+1)*diff\n",
    "        ax.annotate('',xy=(xp,offset),xytext=(xp,offset+signals[i]),arrowprops=zarrow)\n",
    "        if label:\n",
    "            ax.text(xp+0.05/2,ylims[1]*2,'Signal ' + str(i+1),va='center',ha='center',fontsize=10)\n",
    "    \n",
    "    return ax\n",
    "\n",
    "np.random.seed(7)\n",
    "\n",
    "fig, ax = plt.subplots(figsize=(8,4))\n",
    "ax = set_game(ax)\n",
    "ylims = (-2.5,3.5)\n",
    "ax = game_w_z_on_ax(ax,[0.05]*size,y_draw,ylims,z_draw)\n",
    "    \n",
    "plt.savefig('GameOutWithZ.png',dpi=300)"
   ]
  },
  {
   "cell_type": "markdown",
   "metadata": {},
   "source": [
    "Let's call the random vector of signals $\\mathbf{z}$.\n",
    "\n",
    "This helps, but we still need more information. How do we know which signals are predictive? So we'll provide some distribution information. That is, the player gets the following pieces of information:\n",
    "\n",
    "* $\\textrm{var}(\\mathbf{y})$ : a 5-by-5 matrix of numbers that gives the covariance (or variance) between each of the bet outcomes. So this dictates the distribution of bet outcomes before we see $\\mathbf{z}$.\n",
    "* $\\textrm{cov}(\\mathbf{z},\\mathbf{y})$  : a 5-by-5 matrix of numbers that gives the covariance of between each of the bet outcomes and each out signals.\n",
    "* $\\textrm{var}(\\mathbf{z})$ : a 5-by-5 matrix of numbers that gives the covariance (or variance) between each of the signals.\n",
    "\n",
    "Great. This will be enough to form a distribution of $\\mathbf{y}$ *given* the signal - that is, the player can figure out $\\mathbb{E}[\\mathbf{y}|\\mathbf{z}]$ and $\\textrm{var}(\\mathbf{y}|\\mathbf{z})$. I haven't told you how to do this yet, but it's important to keep in mind that the effect of seeing some signal $\\mathbf{z}$ is to create a new distribution of $\\mathbf{y}$, which we can calculate. Now we can ask..."
   ]
  },
  {
   "cell_type": "markdown",
   "metadata": {},
   "source": [
    "### What would an optimal player do?\n",
    "\n",
    "There are two characteristics a good strategy would have:\n",
    "\n",
    "* A high expected return\n",
    "* A low variance \n",
    "\n",
    "These characteristics can be measured directly with a utility function - a function that will take $\\mathbf{h}$ and return a number that tells the player how well they accomplish these two things. Call it $U(\\mathbf{h}|\\mathbf{z})$ (the '$|\\mathbf{z}$' is to indicate that it's formed *after* the signals are observed). \n",
    "\n",
    "So what should this function look like? Here's an uncontroversial idea:\n",
    "\n",
    "$$\n",
    "U(\\mathbf{h}|\\mathbf{z}) = \\mathbb{E}[\\mathbf{h}^T  \\mathbf{y}|\\mathbf{z}] - \\lambda \\textrm{var}(\\mathbf{h}^T  \\mathbf{y}|\\mathbf{z})\n",
    "$$\n",
    "\n",
    "where $\\lambda$ is some positive number the player is free to choose, which determines their tradeoff between the two. Let's call it their 'risk aversion'. For example, $\\lambda=2$ implies a reduction in 1 unit of variance is worth an increase of 2 units in expected return. We can actually simplify this expression a bit:\n",
    "\n",
    "$$\n",
    "U(\\mathbf{h}|\\mathbf{z}) = \\mathbf{h}^T  \\mathbb{E}[\\mathbf{y}|\\mathbf{z}] - \\lambda \\mathbf{h}^T \\textrm{var}(\\mathbf{y}|\\mathbf{z})\\mathbf{h}\n",
    "$$\n",
    "\n",
    "Now we have a means of determining $\\mathbf{h}$ given our signal - just pick the $\\mathbf{h}$ that maximizes this function. Fortunately this is easy - just calculate the gradient:\n",
    "\n",
    "$$\n",
    "\\frac{d}{d \\mathbf{h}} U(\\mathbf{h}|\\mathbf{z})= \\mathbb{E}[\\mathbf{y}|\\mathbf{z}] - 2\\lambda \\textrm{var}(\\mathbf{y}|\\mathbf{z})\\mathbf{h}\n",
    "$$\n",
    "\n",
    "Set it to zero and we get...\n",
    "\n",
    "$$\n",
    "\\textrm{argmax}_{\\mathbf{h}} U(\\mathbf{h}|\\mathbf{z})= \\frac{1}{2\\lambda}\\textrm{var}(\\mathbf{y}|\\mathbf{z})^{-1}\\mathbb{E}[\\mathbf{y}|\\mathbf{z}]\n",
    "$$\n",
    "\n",
    "Let's call this optimal portfolio '$\\mathbf{h}_{opt}$'. Now we just need to know how to calculate those conditional pieces. These are well known results in conditioning on a joint multivariate normal. They are:\n",
    "\n",
    "$$\n",
    "\\begin{align}\n",
    "\\mathbb{E}[\\mathbf{y}|\\mathbf{z}]= & \\mathbb{E}[\\mathbf{y}] + \\textrm{cov}(\\mathbf{y},\\mathbf{z})\\textrm{var}(\\mathbf{z})^{-1}(z-\\mathbb{E}[\\mathbf{z}])\\\\\n",
    "= & \\textrm{cov}(\\mathbf{y},\\mathbf{z})\\textrm{var}(\\mathbf{z})^{-1}(z-\\mathbb{E}[\\mathbf{z}])\\\\\n",
    "\\textrm{var}(\\mathbf{y}|\\mathbf{z})= & \\textrm{var}(\\mathbf{y}) - \\textrm{cov}(\\mathbf{y},\\mathbf{z}) \\textrm{var}(\\mathbf{z})^{-1} \\textrm{cov}(\\mathbf{z},\\mathbf{y})\\\\\n",
    "\\end{align}\n",
    "$$\n",
    "\n",
    "Great - now given the signal, their risk aversion, and all that distributional information, the optimal player will know how to choose their holdings."
   ]
  },
  {
   "cell_type": "markdown",
   "metadata": {},
   "source": [
    "### The \n",
    "\n",
    "Let's watch them play the game, repeatedly, like this (though I'm dropping the signals, which you can roughly guess from the holdings):"
   ]
  },
  {
   "cell_type": "code",
   "execution_count": 20,
   "metadata": {
    "collapsed": false,
    "scrolled": true
   },
   "outputs": [
    {
     "data": {
      "image/png": "[encoded data removed]",
      "text/plain": [
       "<matplotlib.figure.Figure at 0x12a4378ce10>"
      ]
     },
     "metadata": {},
     "output_type": "display_data"
    }
   ],
   "source": [
    "np.random.seed(seed)\n",
    "\n",
    "def play(Lambda=2):\n",
    "    \n",
    "    y_draw, z_draw = make_draw()\n",
    "    Eygz = cov_yz.dot(np.linalg.inv(cov_z)).dot(z_draw)\n",
    "    Varygz = cov_y - cov_yz.dot(np.linalg.inv(cov_z)).dot(cov_zy)\n",
    "    H = (1/(2*Lambda))*(np.linalg.inv(Varygz).dot(Eygz))\n",
    "    \n",
    "    return y_draw, z_draw, H\n",
    "\n",
    "rows = 5\n",
    "cols = 3\n",
    "fig, axarr = plt.subplots(rows,cols,figsize=(15,10),sharey=True,sharex=True)\n",
    "\n",
    "lamb = 2\n",
    "g = 0\n",
    "for i in range(rows):\n",
    "    for j in range(cols):\n",
    "        ax = axarr[i,j]\n",
    "        y_draw, z_draw, H = play(lamb)\n",
    "        ax = set_game(ax)\n",
    "        ax = game_w_z_on_ax(ax,H,y_draw,ylims,z_draw,label=False,betlabel=False)\n",
    "        g += 1\n",
    "        ax.set_title(\"Game {}\".format(str(g)),fontsize=10)\n",
    "\n",
    "plt.savefig('ManyGames.png',dpi=200,tightlayout=True)"
   ]
  },
  {
   "cell_type": "markdown",
   "metadata": {},
   "source": [
    "Looks like there is more green then red, so it feels like we're doing something right. The next natural thing to ask is, what is the distribution of these winnings? Let's run a 10 thousand games (which I will not be plotting) and look at the histogram of winnings:"
   ]
  },
  {
   "cell_type": "code",
   "execution_count": 26,
   "metadata": {
    "collapsed": false
   },
   "outputs": [
    {
     "data": {
      "image/png": "[encoded data removed]",
      "text/plain": [
       "<matplotlib.figure.Figure at 0x12a47303cf8>"
      ]
     },
     "metadata": {},
     "output_type": "display_data"
    }
   ],
   "source": [
    "num_play = 10000\n",
    "winnings = np.array([np.nan]*num_play)\n",
    "for i in range(num_play):\n",
    "    y_draw, z_draw, H = play(lamb)\n",
    "    winnings[i] = H.dot(y_draw)\n",
    "    \n",
    "fig, ax = plt.subplots()\n",
    "ax.hist(winnings,30,normed=True)\n",
    "ax.set_title('Distribution of winnings for a single game',fontsize=12)\n",
    "ax.yaxis.set_ticklabels([])\n",
    "ax.set_xlim(-1,2.5)\n",
    "plt.savefig('DistOfWinnings.png',dpi=1000)\n",
    "pass"
   ]
  },
  {
   "cell_type": "markdown",
   "metadata": {},
   "source": [
    "### Pick a game, any game.\n",
    "\n",
    "Now let's take a step back. Imagine you are shopping around for a good game to play *yourself*. That is, you will look at different distributions of winnings, pick one, kick the player out of their seat and play yourself, hoping to get an awesome winning[1]. How would you pick a good game to play?\n",
    "\n",
    "There is, in fact, a correct answer here. You should pick the game with the best 'Information Ratio' (IR), which is the ratio of the average winnings to the standard deviation of winnings:\n",
    "\n",
    "$$\n",
    "\\textrm{IR}_g = \\frac{\\mu_g}{\\sigma_g}\n",
    "$$\n",
    "\n",
    "where $g$ indicates which game, $\\mu_g$ is the average winning of this game and $\\sigma_g$ is the standard deviation.\n",
    "\n",
    "Why? Because if you pick the game with the best IR, you'll pick the game that will yield you the highest possible utility, and hence the best risk adjusted return. In essence, this metric speaks to the best possible average outcome of the game, while ignoring the risk aversion of the player (which you don't care about, since you'll bring your own). The proof would take us too far afield, but I give you the general idea. Imagine a plot with $\\mu$ along the vertical axis and $\\sigma$ along the horizontal. In that space of points, we can show curves of constant utility, like this:"
   ]
  },
  {
   "cell_type": "code",
   "execution_count": 22,
   "metadata": {
    "collapsed": false
   },
   "outputs": [
    {
     "data": {
      "image/png": "[encoded data removed]",
      "text/plain": [
       "<matplotlib.figure.Figure at 0x12a4526a128>"
      ]
     },
     "metadata": {},
     "output_type": "display_data"
    }
   ],
   "source": [
    "fig, ax = plt.subplots()\n",
    "\n",
    "sigs = np.linspace(0,1,200)\n",
    "\n",
    "Us = np.linspace(.01,1,8)\n",
    "\n",
    "lamb = 2\n",
    "\n",
    "for u in Us:\n",
    "    ax.plot(sigs,u+lamb*(sigs**2),linewidth=.6,color='blue')\n",
    "    ax.annotate('Util='+str(u)[:4],xy=(sigs[-1]+1,(u+lamb*(sigs**2))[-1]-0.002),fontsize=10)\n",
    "    \n",
    "ylim = (0,1)\n",
    "xlim = (0,.7)\n",
    "ax.set_ylim(*ylim)\n",
    "ax.set_xlim(*xlim)\n",
    "ax.set_xlabel('$\\sigma_g$')\n",
    "ax.set_ylabel('$\\mu_g$')\n",
    "ax.set_title('Curves of constant utilitiy')\n",
    "\n",
    "# bbox_props = dict(boxstyle=\"rarrow,pad=0.3\", fc=\"cyan\", ec=\"b\", lw=2)\n",
    "# t = ax.text(0.25, 0.5, \"Increasing utility\", ha=\"center\", va=\"center\", rotation=-225,\n",
    "#             size=15,\n",
    "#             bbox=bbox_props)\n",
    "plt.tight_layout()\n",
    "plt.savefig('ConstantUtil.png',dpi=200)\n",
    "pass"
   ]
  },
  {
   "cell_type": "markdown",
   "metadata": {},
   "source": [
    "They are *curved* because the horizontal line represents standard deviation, but the utility function weights a tradeoff with the *variance*. Higher utility curves are further to the upper left. \n",
    "\n",
    "In this space, we can also show the *region* of risk-reward profiles achievable by choosing different $\\mathbf{h}$'s. I'll tell you (and not prove), it looks like this:"
   ]
  },
  {
   "cell_type": "code",
   "execution_count": 23,
   "metadata": {
    "collapsed": false
   },
   "outputs": [
    {
     "data": {
      "image/png": "[encoded data removed]",
      "text/plain": [
       "<matplotlib.figure.Figure at 0x12a4676ebe0>"
      ]
     },
     "metadata": {},
     "output_type": "display_data"
    }
   ],
   "source": [
    "fig, ax = plt.subplots()\n",
    "\n",
    "ylim = (0,1)\n",
    "xlim = (0,.7)\n",
    "ax.set_ylim(*ylim)\n",
    "ax.set_xlim(*xlim)\n",
    "ax.set_xlabel('$\\sigma_g$')\n",
    "ax.set_ylabel('$\\mu_g$')\n",
    "\n",
    "ir = .8\n",
    "\n",
    "# ax.fill_between(sigs,sigs*ir,color=\"none\",hatch=\"//\",edgecolor=\"teal\",linewidth=2)\n",
    "ax.fill_between(sigs,sigs*ir,hatch='/',alpha=.5,color='teal')\n",
    "ax.annotate('Achievable Risk-Return Profiles',xy=(.47,.13),ha='center',va='center')\n",
    "plt.tight_layout()\n",
    "plt.savefig('Achievable Risk Return.png',dpi=200,tightlayout=True)\n",
    "pass"
   ]
  },
  {
   "cell_type": "markdown",
   "metadata": {},
   "source": [
    "When we maximize, we end up picking the point *tangent* to the slope of the line that separates the attainable from the unattainable. Like this:"
   ]
  },
  {
   "cell_type": "code",
   "execution_count": 24,
   "metadata": {
    "collapsed": false
   },
   "outputs": [
    {
     "data": {
      "image/png": "[encoded data removed]",
      "text/plain": [
       "<matplotlib.figure.Figure at 0x12a4550d630>"
      ]
     },
     "metadata": {},
     "output_type": "display_data"
    }
   ],
   "source": [
    "fig, ax = plt.subplots()\n",
    "\n",
    "ax.set_ylim(*ylim)\n",
    "ax.set_xlim(*xlim)\n",
    "ax.set_xlabel('$\\sigma_g$')\n",
    "ax.set_ylabel('$\\mu_g$')\n",
    "\n",
    "ir = .8\n",
    "\n",
    "ax.fill_between(sigs,sigs*ir,hatch='/',alpha=.5,color='teal')\n",
    "# ax.fill_between(sigs,sigs*ir,color=\"none\",hatch=\"//\",edgecolor=\"teal\",linewidth=2)\n",
    "\n",
    "best_mu = (ir**2)/(2*lamb)\n",
    "best_sig = (ir**2)/((2*lamb)**2)\n",
    "best_util = best_mu - lamb*best_sig\n",
    "ax.plot(sigs,best_util+lamb*(sigs**2),linewidth=.6,color='blue')\n",
    "ax.annotate('Best achievable utility',xy=(.57,.78),ha='center',va='center',rotation=45)\n",
    "ax.annotate('Risk Return of optimal player',xy=(np.sqrt(best_sig),best_mu),xytext=(.02,.5),\n",
    "            arrowprops=dict(facecolor='black', shrink=0.05))\n",
    "plt.tight_layout()\n",
    "plt.savefig('Achievable Risk Return with Util.png',dpi=200)\n",
    "pass"
   ]
  },
  {
   "cell_type": "markdown",
   "metadata": {},
   "source": [
    "That point will dictate the expected return and standard deviation of the winnings of this optimal player. At the same time, it'll tell us the best expected return - standard deviation tradeoff this game allows.\n",
    "\n",
    "So pick the player getting the best IR and you'll play the game that yield you the highest utility function, regardless of either of your risk aversions."
   ]
  },
  {
   "cell_type": "markdown",
   "metadata": {},
   "source": [
    "### What drives IR?\n",
    "\n",
    "It turns out that IR has a beautifully simple, approximate (though highly accurate) decomposition:\n",
    "\n",
    "$$\n",
    "\\textrm{IR} \\approx \\textrm{IC}\\sqrt{\\textrm{BR}}\n",
    "$$\n",
    "\n",
    "* IC stands for 'information coefficient' and it's 'like' the average correlation between your $\\mathbf{z}$'s and your $\\mathbf{y}$'s.\n",
    "* BR means 'breath' and it means the number of *independent* bets your making. \n",
    "\n",
    "That right there is the fundamental law. If you want a real understanding of these terms, read the last, appendix-y section called \"Deriving the fundamental Law\".\n",
    "\n",
    "Let's consider a simple case. Let's say our $\\mathbf{y}$ is independent of itself (meaning var($\\mathbf{y}$) has zeros on the off diagonal). This is similarly true for $\\mathbf{z}$. On average, an element of $\\mathbf{z}$ has a correlation of .05 with an element of $\\mathbf{y}$. Then if $\\mathbf{y}$ is length 10 (so we have 10 independent bets), then our IR will be 10*0.05 = 0.5. That is, the best you can hope to do is get 0.5 in expected return for every unit of standard deviation you are willing to stomach.\n",
    "\n",
    "To get a better view, let's look at the curves of constant IR across IC and BR."
   ]
  },
  {
   "cell_type": "code",
   "execution_count": 25,
   "metadata": {
    "collapsed": false
   },
   "outputs": [
    {
     "data": {
      "image/png": "[encoded data removed]",
      "text/plain": [
       "<matplotlib.figure.Figure at 0x12a44b1c128>"
      ]
     },
     "metadata": {},
     "output_type": "display_data"
    }
   ],
   "source": [
    "fig, ax = plt.subplots()\n",
    "\n",
    "BRs = np.linspace(1,102,100)\n",
    "\n",
    "IRs = np.linspace(.02,2,15)\n",
    "\n",
    "for ir in IRs:\n",
    "    ax.plot(BRs,ir/np.sqrt(BRs),linewidth=.6,color='blue')\n",
    "    ax.annotate('IR='+str(ir)[:4],xy=(BRs[-1]+1,ir/np.sqrt(BRs)[-1]-0.002),fontsize=10)\n",
    "    \n",
    "ax.set_ylim(0,.2)\n",
    "ax.set_xlim(0,110)\n",
    "ax.set_xlabel('Breath - # of independent bets')\n",
    "ax.set_ylabel('IC - ave. signal-outcome correlation',fontsize=12)\n",
    "ax.set_title('Lines of constant IR')\n",
    "plt.tight_layout()\n",
    "plt.savefig('ConstantIR.png',dpi=300)\n",
    "pass"
   ]
  },
  {
   "cell_type": "markdown",
   "metadata": {},
   "source": [
    "These curves tell us precisely how to tradeoff those two beneficial features of a game to play. In general, think: 'doubling your IC is worth quadrupling your number of bets' - this is the trick to always keep in mind!"
   ]
  },
  {
   "cell_type": "markdown",
   "metadata": {},
   "source": [
    "### Back to reality\n",
    "\n",
    "So what does all this game-playing bologna have to do with investing?\n",
    "\n",
    "The game is like an investment strategy. *Any* investment strategy is going to rely on correlations between the past and future and will have some number of available bets per period.\n",
    "\n",
    "Investors are like players who come with their own risk aversions. So when evaluating performance, you need to consider a risk adjusted return metric ('Information Ratio' - which is very similar to Sharpe Ratio if you're familiar) to account for those differences.\n",
    "\n",
    "In the end, this tells you that the most important metric comes from frequently exploiting predictive signals. These are all improved if your strategy has: \n",
    "\n",
    "1. High correlation between your signals and outcomes\n",
    "2. Low correlation across elements of your signals.\n",
    "3. Low correlation across elements of your outputs.\n",
    "4. As many bets as possible.\n",
    "\n",
    "In the end, this should motivate the types of investment strategies you might develop yourself. It tells us where to look and what to hope for. So imagine hearing about two strategies:\n",
    "\n",
    "1. Uses a 10% correlated indicator to proxy earning reports before they come out for tech stocks.\n",
    "2. Uses a 1% correlated indicator to proxy the difference between opening and closing prices of US Equities.\n",
    "\n",
    "The first one would probably have an easier time marketing itself, but we *know* the second one is *way* better, simply because it has thousands of times more opportunities than the former.\n",
    "\n",
    "In the end, I suspect this is a major reason quant dominate in the recent past. They can scale to ridiculous betting amounts, earning themselves the most attractive risk adjusted returns."
   ]
  },
  {
   "cell_type": "markdown",
   "metadata": {},
   "source": [
    "### Deriving the fundamental law.\n",
    "\n",
    "Feeling brave? Let's see if we can breakdown IR ourselves.\n",
    "\n",
    "First, a useful point of analysis will be from $\\textrm{IR}|\\mathbf{z}$, which is the ratio of our expectation of winnings to our standard deviation *given* our signal. Then we will calculate $IR$ by taking the expectation with respect to $\\mathbf{z}$:\n",
    "\n",
    "$$\n",
    "\\textrm{IR} = \\int_{\\mathbb{R}^D} p(\\mathbf{z})(\\textrm{IR}|\\mathbf{z}) d\\mathbf{z}\n",
    "$$\n",
    "\n",
    "But let's start from that conditional point:\n",
    "\n",
    "$$\n",
    "\\begin{align}\n",
    "\\textrm{IR}|\\mathbf{z} & = \\frac{\\mathbb{E}[\\mathbf{h}_{opt}^T  \\mathbf{y}|\\mathbf{z}]}{\\sqrt{\\textrm{var}(\\mathbf{h}_{opt}^T  \\mathbf{y}|\\mathbf{z})}} \\\\\n",
    "\\end{align}\n",
    "$$\n",
    "\n",
    "To make our life easier, let's square it:\n",
    "\n",
    "$$\n",
    "\\begin{align}\n",
    "\\textrm{IR}^2|\\mathbf{z} & = \\frac{\\mathbb{E}[\\mathbf{h}_{opt}^T  \\mathbf{y}|\\mathbf{z}]^2}{\\textrm{var}(\\mathbf{h}_{opt}^T  \\mathbf{y}|\\mathbf{z})} \\\\\n",
    "\\end{align}\n",
    "$$\n",
    "\n",
    "Since we know how to form $\\mathbf{h}_{opt}$, let's figure out the top:\n",
    "\n",
    "$$\n",
    "\\begin{align}\n",
    "\\mathbb{E}[\\mathbf{h}_{opt}^T  \\mathbf{y}|\\mathbf{z}] = & \\mathbf{h}_{opt}^T \\mathbb{E}[\\mathbf{y}|\\mathbf{z}]\\\\\n",
    "= & \\frac{1}{2\\lambda}\\mathbb{E}[\\mathbf{y}|\\mathbf{z}]^T\\textrm{var}(\\mathbf{y}|\\mathbf{z})^{-1} \\mathbb{E}[\\mathbf{y}|\\mathbf{z}]\\\\\n",
    "\\end{align}\n",
    "$$\n",
    "\n",
    "Now let's do something similar with the bottom:\n",
    "\n",
    "$$\n",
    "\\begin{align}\n",
    "\\textrm{var}(\\mathbf{h}_{opt}^T  \\mathbf{y}|\\mathbf{z}) & =  \\mathbf{h}_{opt}^T var(\\mathbf{y}|\\mathbf{z}) \\mathbf{h}_{opt} \\\\\n",
    "& =  \\frac{1}{4\\lambda^2}\\mathbb{E}[\\mathbf{y}|\\mathbf{z}]^T var(\\mathbf{y}|\\mathbf{z})^{-1}\\mathbb{E}[\\mathbf{y}|\\mathbf{z}]\\\\\n",
    "\\end{align}\n",
    "$$\n",
    "\n",
    "I sense some sweet cancellation coming up:\n",
    "\n",
    "$$\n",
    "\\begin{align}\n",
    "\\textrm{IR}^2|\\mathbf{z} & = \\frac{\\mathbb{E}[\\mathbf{h}_{opt}^T  \\mathbf{y}|\\mathbf{z}]^2}{\\textrm{var}(\\mathbf{h}_{opt}^T  \\mathbf{y}|\\mathbf{z})} \\\\\n",
    "& = \\frac{\\big(\\frac{1}{2\\lambda}\\mathbb{E}[\\mathbf{y}|\\mathbf{z}]^T\\textrm{var}(\\mathbf{y}|\\mathbf{z})^{-1} \\mathbb{E}[\\mathbf{y}|\\mathbf{z}]\\big)^2}{\\frac{1}{4\\lambda^2}\\mathbb{E}[\\mathbf{y}|\\mathbf{z}]^T var(\\mathbf{y}|\\mathbf{z})^{-1}\\mathbb{E}[\\mathbf{y}|\\mathbf{z}]} \\\\\n",
    "& = \\mathbb{E}[\\mathbf{y}|\\mathbf{z}]^T\\textrm{var}(\\mathbf{y}|\\mathbf{z})^{-1} \\mathbb{E}[\\mathbf{y}|\\mathbf{z}] \\\\\n",
    "\\end{align}\n",
    "$$\n",
    "\n",
    "What a simple expression! Can we take it any further? We can, but we'll need a few tricks. \n",
    "\n",
    "The first is an approximation that works well in the noisy world of predictive finance.That is:\n",
    "\n",
    "$$\n",
    "\\begin{align}\n",
    "\\textrm{var}(\\mathbf{y}|\\mathbf{z})= & \\textrm{var}(\\mathbf{y}) - \\textrm{cov}(\\mathbf{y},\\mathbf{z}) \\textrm{var}(\\mathbf{z})^{-1} \\textrm{cov}(\\mathbf{z},\\mathbf{y})\\\\\n",
    "\\approx & \\textrm{var}(\\mathbf{y})\n",
    "\\end{align}\n",
    "$$\n",
    "\n",
    "This only works because correlations in financial prediction are never extreme; they tend to hang out with between -0.1 and .1 and so, this approximation is accurate.\n",
    "\n",
    "Second, since the result is just a single number and the trace of a single number is just that number, then we can use the very useful trace trick. This says that given arbitrary matrices $\\mathbf{A}$, $\\mathbf{B}$ and $\\mathbf{C}$, then \n",
    "\n",
    "$$\n",
    "\\textrm{Tr}(\\mathbf{ABC})=\\textrm{Tr}(\\mathbf{CAB})=\\textrm{Tr}(\\mathbf{BCA})\n",
    "$$\n",
    "\n",
    "So when you have a product within a trace operator, you can push factors out one side and into the other, and the expression will be the same.\n",
    "\n",
    "With these, we can proceed with our long mathy journey. First, use the trace trick:\n",
    "\n",
    "$$\n",
    "\\begin{align}\n",
    "\\textrm{IR}^2|\\mathbf{z} & =\\textrm{Tr}\\big(\\textrm{IR}^2|\\mathbf{z}\\big) \\\\\n",
    "& =\\textrm{Tr}\\big(\\mathbb{E}[\\mathbf{y}|\\mathbf{z}]^T\\textrm{var}(\\mathbf{y}|\\mathbf{z})^{-1} \\mathbb{E}[\\mathbf{y}|\\mathbf{z}]\\big) \\\\\n",
    "& =\\textrm{Tr}\\big(\\mathbb{E}[\\mathbf{y}|\\mathbf{z}]\\mathbb{E}[\\mathbf{y}|\\mathbf{z}]^T\\textrm{var}(\\mathbf{y}|\\mathbf{z})^{-1}\\big) \\\\\n",
    "\\end{align}\n",
    "$$\n",
    "\n",
    "Now, use that approximation and substitute in our formula for the conditional expectation:\n",
    "\n",
    "$$\n",
    "\\begin{align}\n",
    "\\textrm{IR}^2|\\mathbf{z} & =\\textrm{Tr}\\big(\\mathbb{E}[\\mathbf{y}|\\mathbf{z}]\\mathbb{E}[\\mathbf{y}|\\mathbf{z}]^T\\textrm{var}(\\mathbf{y}|\\mathbf{z})^{-1}\\big) \\\\\n",
    "& \\approx \\textrm{Tr}\\big(\\mathbb{E}[\\mathbf{y}|\\mathbf{z}]\\mathbb{E}[\\mathbf{y}|\\mathbf{z}]^T\\textrm{var}(\\mathbf{y})^{-1}\\big) \\\\\n",
    "& =\\textrm{Tr}\\big(\\textrm{cov}(\\mathbf{y},\\mathbf{z})\\textrm{var}(\\mathbf{z})^{-1}(z-\\mathbb{E}[\\mathbf{z}])\\big(\\textrm{cov}(\\mathbf{y},\\mathbf{z})\\textrm{var}(\\mathbf{z})^{-1}(z-\\mathbb{E}[\\mathbf{z}])\\big)^T\\textrm{var}(\\mathbf{y})^{-1}\\big) \\\\\n",
    "& =\\textrm{Tr}\\big(\\textrm{cov}(\\mathbf{y},\\mathbf{z})\\textrm{var}(\\mathbf{z})^{-1}(z-\\mathbb{E}[\\mathbf{z}])(z-\\mathbb{E}[\\mathbf{z}])^T\\textrm{var}(\\mathbf{z})^{-1}\\textrm{cov}(\\mathbf{y},\\mathbf{z})^T\\textrm{var}(\\mathbf{y})^{-1}\\big) \\\\\n",
    "\\end{align}\n",
    "$$\n",
    "\n",
    "I'm feeling lucky. Let's take expectations and pull everything we can out of the integral:\n",
    "\n",
    "$$\n",
    "\\begin{align}\n",
    "\\textrm{IR} & = \\int_{\\mathbb{R}^D} p(\\mathbf{z})(\\textrm{IR}|\\mathbf{z}) d\\mathbf{z}\\\\\n",
    "& = \\int_{\\mathbb{R}^D} p(\\mathbf{z})\\textrm{Tr}\\big(\\textrm{cov}(\\mathbf{y},\\mathbf{z})\\textrm{var}(\\mathbf{z})^{-1}(z-\\mathbb{E}[\\mathbf{z}])(z-\\mathbb{E}[\\mathbf{z}])^T\\textrm{var}(\\mathbf{z})^{-1}\\textrm{cov}(\\mathbf{y},\\mathbf{z})^T\\textrm{var}(\\mathbf{y})^{-1}\\big) d\\mathbf{z}\\\\\n",
    "& = \\textrm{Tr}\\big(\\textrm{cov}(\\mathbf{y},\\mathbf{z})\\textrm{var}(\\mathbf{z})^{-1}\\big(\\underbrace{\\int_{\\mathbb{R}^D} p(\\mathbf{z})(z-\\mathbb{E}[\\mathbf{z}])(z-\\mathbb{E}[\\mathbf{z}])^T d\\mathbf{z}}_\\text{This is the definition of variance!}\\big)\\textrm{var}(\\mathbf{z})^{-1}\\textrm{cov}(\\mathbf{y},\\mathbf{z})^T\\textrm{var}(\\mathbf{y})^{-1}\\big)\\\\\n",
    "& = \\textrm{Tr}\\big(\\textrm{cov}(\\mathbf{y},\\mathbf{z})\\textrm{var}(\\mathbf{z})^{-1}\\textrm{var}(\\mathbf{z})\\textrm{var}(\\mathbf{z})^{-1}\\textrm{cov}(\\mathbf{y},\\mathbf{z})^T\\textrm{var}(\\mathbf{y})^{-1}\\big)\\\\\n",
    "& = \\textrm{Tr}\\big(\\textrm{cov}(\\mathbf{y},\\mathbf{z})\\textrm{var}(\\mathbf{z})^{-1}\\textrm{cov}(\\mathbf{z},\\mathbf{y})\\textrm{var}(\\mathbf{y})^{-1}\\big)\\\\\n",
    "\\end{align}\n",
    "$$"
   ]
  },
  {
   "cell_type": "markdown",
   "metadata": {},
   "source": [
    "Ok, take a breather, have some water, shake your legs. This is where I got stuck.\n",
    "\n",
    "If we want this expression to simplify more, we have to have a feeling as to would happen. My instinct is that there is 'half' of $\\textrm{var}(\\mathbf{y})$ that is buried in $\\textrm{cov}(\\mathbf{z},\\mathbf{y})$ and the other half is buried in $\\textrm{cov}(\\mathbf{y},\\mathbf{z})$. This is similarly true $\\textrm{var}(\\mathbf{z})$. If that happens the right way, $\\textrm{var}(\\mathbf{y})$ and $\\textrm{var}(\\mathbf{z})$ will disappear. To move in that direction, let's write the variance matrices in their eigenvalue decomposition:\n",
    "\n",
    "$$\n",
    "\\begin{align}\n",
    "\\textrm{var}(\\mathbf{z}) & = \\mathbf{Q}_\\mathbf{z}\\Lambda_\\mathbf{z} \\mathbf{Q}^T_\\mathbf{z}\\\\\n",
    "\\textrm{var}(\\mathbf{y}) & = \\mathbf{Q}_\\mathbf{y}\\Lambda_\\mathbf{y} \\mathbf{Q}^T_\\mathbf{y}\\\\\n",
    "\\end{align}\n",
    "$$\n",
    "\n",
    "Since I want these terms to split up into my covariance matrices, I'm simply going to write my $\\textrm{cov}(\\mathbf{z},\\mathbf{y})$ with them as components, leaving a $\\mathbf{C}_\\mathbf{zy}$ in the middle that is defined such that this works. Like this:\n",
    "\n",
    "$$\n",
    "\\textrm{cov}(\\mathbf{z},\\mathbf{y}) = \\mathbf{Q}_\\mathbf{z}\\sqrt{\\Lambda_\\mathbf{z}}\\mathbf{C}_\\mathbf{zy}\\sqrt{\\Lambda_\\mathbf{y}}\\mathbf{Q}^T_\\mathbf{y}\n",
    "$$"
   ]
  },
  {
   "cell_type": "markdown",
   "metadata": {
    "collapsed": true
   },
   "source": [
    "Where $\\mathbf{C}_\\mathbf{zy}$ is defined to make this work, that is:\n",
    "\n",
    "$$\n",
    "\\mathbf{C}_\\mathbf{zy} = \\frac{1}{\\sqrt{\\Lambda_\\mathbf{z}}}\\mathbf{Q}^T_\\mathbf{z}\\textrm{cov}(\\mathbf{z},\\mathbf{y})\\mathbf{Q}_\\mathbf{y}\\frac{1}{\\sqrt{\\Lambda_\\mathbf{y}}}\n",
    "$$\n",
    "\n",
    "where $\\frac{1}{\\sqrt{\\Lambda_\\mathbf{z}}}$ refers to a diagonal matrix with the reciprocal of the square roots of the eigenvalues down the diagonal. Now let's proceed with our original expression:\n",
    "\n",
    "$$\n",
    "\\begin{align}\n",
    "\\textrm{IR} & = \\textrm{Tr}\\big(\\textrm{cov}(\\mathbf{y},\\mathbf{z})\\textrm{var}(\\mathbf{z})^{-1}\\textrm{cov}(\\mathbf{z},\\mathbf{y})\\textrm{var}(\\mathbf{y})^{-1}\\big)\\\\\n",
    "& = \\textrm{Tr}\\big(\\big(\\mathbf{Q}_\\mathbf{y}\\sqrt{\\Lambda_\\mathbf{y}}\\mathbf{C}_\\mathbf{yz}\\sqrt{\\Lambda_\\mathbf{z}}\\mathbf{Q}^T_\\mathbf{z}\\big)\\big(\\mathbf{Q}_\\mathbf{z}\\Lambda^{-1}_\\mathbf{z} \\mathbf{Q}^T_\\mathbf{z}\\big)\\big(\\mathbf{Q}_\\mathbf{z}\\sqrt{\\Lambda_\\mathbf{z}}\\mathbf{C}_\\mathbf{zy}\\sqrt{\\Lambda_\\mathbf{y}}\\mathbf{Q}^T_\\mathbf{y}\\big)\\big(\\mathbf{Q}_\\mathbf{y}\\Lambda^{-1}_\\mathbf{y} \\mathbf{Q}^T_\\mathbf{y}\\big)\\big)\\\\\n",
    "& = \\textrm{Tr}\\big(\\mathbf{C}_\\mathbf{yz}\\mathbf{C}_\\mathbf{zy}\\big)\\\\\n",
    "\\end{align}\n",
    "$$\n",
    "\n",
    "Look at all that glorious cancellation!\n",
    "\n",
    "Also, if you think about what exactly is going on with that last line, all we are doing is squaring each term of $\\mathbf{C}_\\mathbf{yz}$ and summing them up. This is so simple, it has to mean something.\n",
    "\n",
    "But did I really do anything useful? Or did I just hide notation with $\\mathbf{C}_\\mathbf{yz}$? In other words, does $\\mathbf{C}_\\mathbf{yz}$ mean anything? Well, the nice properties of covariances allow us to move the matrix multiplication inside the covariance:\n",
    "\n",
    "$$\n",
    "\\begin{align}\n",
    "\\mathbf{C}_\\mathbf{zy} & = \\frac{1}{\\sqrt{\\Lambda_\\mathbf{z}}}\\mathbf{Q}^T_\\mathbf{z}\\textrm{cov}(\\mathbf{z},\\mathbf{y})\\mathbf{Q}_\\mathbf{y}\\frac{1}{\\sqrt{\\Lambda_\\mathbf{y}}} \\\\\n",
    "& = \\textrm{cov}(\\frac{1}{\\sqrt{\\Lambda_\\mathbf{z}}}\\mathbf{Q}^T_\\mathbf{z}\\mathbf{z},\\frac{1}{\\sqrt{\\Lambda_\\mathbf{y}}}\\mathbf{Q}^T_\\mathbf{y}\\mathbf{y})\\\\\n",
    "\\end{align}\n",
    "$$\n",
    "\n",
    "So it's the covariance matrix between $\\frac{1}{\\sqrt{\\Lambda_\\mathbf{z}}}\\mathbf{Q}^T_\\mathbf{z}\\mathbf{z}$ and $\\frac{1}{\\sqrt{\\Lambda_\\mathbf{y}}}\\mathbf{Q}^T_\\mathbf{y}\\mathbf{y}$ (call them $\\tilde{\\mathbf{z}}$ and $\\tilde{\\mathbf{y}}$). What are these? Well, if we squint hard, we realize that this is just a whitening tranformation (link). That is, these are a tranformed versions of $\\mathbf{z}$ and $\\mathbf{y}$ such that they have unit variance and zero covariance across elements. If you remember anything about factor models, these are the latent factors. If not, think of them as the de-correlated sources of variation. Further, since they have unit variances, this is infact a *correlation* matrix. In other words, if we have:\n",
    "\n",
    "$$\n",
    "\\textrm{cov}(\\tilde{\\mathbf{z}},\\tilde{\\mathbf{y}}) = \\textrm{corr}(\\tilde{\\mathbf{z}},\\tilde{\\mathbf{y}}) = \\left[\\begin{array}{cccc}\n",
    "p_{1,1} & p_{1,2} & \\cdots & p_{1,D}\\\\\n",
    "p_{2,1} & \\ddots &  & \\vdots\\\\\n",
    "\\vdots &  & \\ddots & \\vdots\\\\\n",
    "p_{D,1} & \\cdots & \\cdots & p_{D,D}\n",
    "\\end{array}\\right]\n",
    "$$\n",
    "\n",
    "Then,\n",
    "\n",
    "$$\n",
    "\\textrm{IR}^2 \\approx \\sum_{i=1}^D \\sum_{j=1}^D p_{i,j}^2 \n",
    "$$\n",
    "\n",
    "Now if we define:\n",
    "\n",
    "1. Breath (BR) : the number of latent sources of variation for our signals (this is the rank of var($\\mathbf{z}$))\n",
    "1. Information Coefficient (IC) = $\\sqrt{\\frac{1}{BR}\\sum_{i=1}^{BR} \\sum_{j=1}^D p_{i,j}^2}$. Think of this as the average signal quality.\n",
    "\n",
    "Then\n",
    "\n",
    "$$\n",
    "\\textrm{IR}^2 \\approx \\textrm{IC}^2 \\textrm{BR}\\\n",
    "$$\n",
    "\n",
    "Which yields the final answer:\n",
    "\n",
    "$$\n",
    "\\textrm{IR} \\approx \\textrm{IC}\\sqrt{\\textrm{BR}}\n",
    "$$\n"
   ]
  },
  {
   "cell_type": "markdown",
   "metadata": {},
   "source": [
    "So think of calculating it this way: \n",
    "\n",
    "1. find the standardized, latent sources of variation in your bet outcomes and in your signals. \n",
    "2. calculate the correlation matrix between the two.\n",
    "3. Square the elements and add them up, yielding $IR^2$.\n"
   ]
  },
  {
   "cell_type": "markdown",
   "metadata": {
    "collapsed": true
   },
   "source": [
    "### Footnotes\n",
    "\n",
    "[1] You'd still play the game optimally - the only that you'd change is the risk aversion parameter.\n",
    "[2] These are sometimes called 'indifference' curves, because a player would be indifferent among all the points within a curve."
   ]
  }
 ],
 "metadata": {
  "anaconda-cloud": {},
  "kernelspec": {
   "display_name": "Python [Root]",
   "language": "python",
   "name": "Python [Root]"
  },
  "language_info": {
   "codemirror_mode": {
    "name": "ipython",
    "version": 3
   },
   "file_extension": ".py",
   "mimetype": "text/x-python",
   "name": "python",
   "nbconvert_exporter": "python",
   "pygments_lexer": "ipython3",
   "version": "3.5.2"
  }
 },
 "nbformat": 4,
 "nbformat_minor": 0
}
