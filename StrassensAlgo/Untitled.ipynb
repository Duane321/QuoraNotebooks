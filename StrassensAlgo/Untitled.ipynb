{
 "cells": [
  {
   "cell_type": "markdown",
   "metadata": {},
   "source": [
    "## What is the most interesting algorithm?\n",
    "\n",
    "### The Strassen Algorithm\n",
    "\n",
    "The most mind-blowing fact of this algorithm is that someone attempted it.\n",
    "\n",
    "Let me show you what I mean.\n",
    "\n",
    "To start, we need to know about matrix multiplication. Let's write down two 3-by-3 matrices:\n",
    "\n",
    "![title](TwoMatrices.png)\n",
    "\n",
    "Let's call the left matrix $\\mathbf{A}$ and the right $\\mathbf{B}. $We *define* matrix multiplication between these two as a calculation which results in another matrix with the same numbers of rows as $\\mathbf{A}$ and the same number of columns as $\\mathbf{B}$. Specifically, we calculate each element of the result as:\n",
    "\n",
    "![title](CalcAnElement.png)\n",
    "\n",
    "Let's call the resulting matrix $\\mathbf{C}$. So if you'd like to calculate an element of $\\mathbf{C}$ that's in the second row and first column, you select out the second row from $\\mathbf{A}$ and first column of $\\mathbf{B}$. Then you multiple each element of these together and sum them up. This is similarly defined for all other elements of $\\mathbf{C}$. So the result is:\n",
    "\n",
    "![title](Multiply.png)\n",
    "\n",
    "To understand why Strassen's Algorithm is interesting, we need to *count* how many simple add/multiply calculations are involved in producing $\\mathbf{C}$. Well, that's not hard. To produce that number 48, we had 3 multiplications and 2 additions, for a total of 5 simple calcs. Since there are 9 elements in $\\mathbf{C}$, we have a total of $9\\times 5=45$ calculations.\n",
    "\n",
    "But we need to get more general. Let's say $\\mathbf{A}$ and $\\mathbf{B}$ where $n$-by-$n$ matrices. Then the formula for the total number of calculations is:\n",
    "\n",
    "$$\n",
    "T(n) = n^2(n + (n-1)) = n^3 + n^2(n-1)\n",
    "$$\n",
    "\n",
    "Now, when some mathy people look at this, they want to drop the specifics and consider only the dominate behavior as $n$ get's large. In other words, they care about the generic speed with which this function grows. For this case, they would say $T(n)$ grows in proportion to $n^3$. More specifically, they say '$T(n)$ is in the set $\\mathcal{O}(n^3)$, which means you could choose a constant $c$ such that $T(n)<c\\cdot n^3$ for all $n$ beyond a certain point. To simplify, just think of this as a technical way of pointing out the highest exponent term in $T(n)$.\n",
    "\n",
    "So let's think about that statement: $T(n)$ grows in proportion to $n^3$. It has to, right? The result, $\\mathbf{C}$, has $n^2$ elements and we have to calculate each in turn. For each of those, we have some near-multiple of $n$ calculations to do. This *must* amount in something on the order of $n^3$ calculations... right?\n",
    "\n",
    "### No.\n",
    "\n",
    "Strassen's algorithm was the first strike to chip away at the $n^3$ shell, showing us that we could get the cost of matrix multiplication to grow *below* $n^3$.\n",
    "\n",
    "That is absolutely wild. How are the hell are we avoiding the work of matrix multiplication that seems baked into it's definition?\n",
    "\n",
    "I have no clue and no one suspected it was worth an attempt until Volker Strassen (link) came along. His algorithm showed it could be done with a cost near $\\mathcal{O}(n^2.8)$. This sparked a flurry of research, and we've since made significant progress:\n",
    "\n",
    "![title](MatrixMultGrowth.png)"
   ]
  },
  {
   "cell_type": "code",
   "execution_count": 1,
   "metadata": {},
   "outputs": [
    {
     "data": {
      "text/plain": [
       "array([[1, 3, 2],\n",
       "       [3, 7, 6],\n",
       "       [4, 2, 1]])"
      ]
     },
     "execution_count": 1,
     "metadata": {},
     "output_type": "execute_result"
    }
   ],
   "source": [
    "import numpy as np\n",
    "\n",
    "A = np.array([[1,3,2],[3,7,6],[4,2,1]])\n",
    "B = np.array([[5,4,8],[3,5,9],[2,4,4]])\n",
    "C = A.dot(B)\n",
    "A"
   ]
  },
  {
   "cell_type": "code",
   "execution_count": 2,
   "metadata": {},
   "outputs": [
    {
     "data": {
      "text/plain": [
       "array([[5, 4, 8],\n",
       "       [3, 5, 9],\n",
       "       [2, 4, 4]])"
      ]
     },
     "execution_count": 2,
     "metadata": {},
     "output_type": "execute_result"
    }
   ],
   "source": [
    "B"
   ]
  },
  {
   "cell_type": "code",
   "execution_count": 3,
   "metadata": {},
   "outputs": [
    {
     "data": {
      "text/plain": [
       "array([[ 18,  27,  43],\n",
       "       [ 48,  71, 111],\n",
       "       [ 28,  30,  54]])"
      ]
     },
     "execution_count": 3,
     "metadata": {},
     "output_type": "execute_result"
    }
   ],
   "source": [
    "C"
   ]
  },
  {
   "cell_type": "code",
   "execution_count": null,
   "metadata": {},
   "outputs": [],
   "source": []
  }
 ],
 "metadata": {
  "kernelspec": {
   "display_name": "Python 3",
   "language": "python",
   "name": "python3"
  },
  "language_info": {
   "codemirror_mode": {
    "name": "ipython",
    "version": 3
   },
   "file_extension": ".py",
   "mimetype": "text/x-python",
   "name": "python",
   "nbconvert_exporter": "python",
   "pygments_lexer": "ipython3",
   "version": "3.6.4"
  }
 },
 "nbformat": 4,
 "nbformat_minor": 2
}
