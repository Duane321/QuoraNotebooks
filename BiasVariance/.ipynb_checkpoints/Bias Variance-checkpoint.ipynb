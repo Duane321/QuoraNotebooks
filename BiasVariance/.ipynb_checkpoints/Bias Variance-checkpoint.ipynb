{
 "cells": [
  {
   "cell_type": "markdown",
   "metadata": {},
   "source": [
    "What do I want to say?\n",
    "- 'Bias' and 'Variance' get tossed around alot.\n",
    "- What is the purpose of the bias-variance tradeoff?"
   ]
  },
  {
   "cell_type": "markdown",
   "metadata": {},
   "source": [
    "# What is an intuitive explanation for bias-variance tradeoff?\n",
    "\n",
    "The bias-variance tradeoff is often misunderstood and misused. Though, it's not terribly surprising - the component terms 'bias' and 'variance' are frequently used in related-but-different ideas. The fact is, however, that this tradeoff refers to something very specific with a singular goal: generalization of a model's predictive performance. So here, I'll attempt to make that as clear as day, by addressing two questions:\n",
    "\n",
    "\n",
    "\n",
    "\n",
    "# What is the bias-variance tradeoff?\n",
    "\n",
    "The purpose of this concept is *generalization* - \n",
    "\n"
   ]
  }
 ],
 "metadata": {
  "kernelspec": {
   "display_name": "Python 3",
   "language": "python",
   "name": "python3"
  },
  "language_info": {
   "codemirror_mode": {
    "name": "ipython",
    "version": 3
   },
   "file_extension": ".py",
   "mimetype": "text/x-python",
   "name": "python",
   "nbconvert_exporter": "python",
   "pygments_lexer": "ipython3",
   "version": "3.6.4"
  }
 },
 "nbformat": 4,
 "nbformat_minor": 2
}
