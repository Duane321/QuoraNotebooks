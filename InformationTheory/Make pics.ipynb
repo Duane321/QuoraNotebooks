{
 "cells": [
  {
   "cell_type": "code",
   "execution_count": 1,
   "metadata": {},
   "outputs": [],
   "source": [
    "import numpy as np\n",
    "import pandas as pd\n",
    "from scipy.stats import norm\n",
    "import matplotlib.pyplot as plt\n",
    "import matplotlib.gridspec as gridspec\n",
    "% matplotlib inline"
   ]
  },
  {
   "cell_type": "markdown",
   "metadata": {},
   "source": [
    "## Example grid"
   ]
  },
  {
   "cell_type": "code",
   "execution_count": 2,
   "metadata": {},
   "outputs": [
    {
     "data": {
      "text/html": [
       "<div>\n",
       "<style scoped>\n",
       "    .dataframe tbody tr th:only-of-type {\n",
       "        vertical-align: middle;\n",
       "    }\n",
       "\n",
       "    .dataframe tbody tr th {\n",
       "        vertical-align: top;\n",
       "    }\n",
       "\n",
       "    .dataframe thead th {\n",
       "        text-align: right;\n",
       "    }\n",
       "</style>\n",
       "<table border=\"1\" class=\"dataframe\">\n",
       "  <thead>\n",
       "    <tr style=\"text-align: right;\">\n",
       "      <th></th>\n",
       "      <th>$i$</th>\n",
       "      <th>$\\mathcal{X}$</th>\n",
       "      <th>Probability</th>\n",
       "    </tr>\n",
       "  </thead>\n",
       "  <tbody>\n",
       "    <tr>\n",
       "      <th>0</th>\n",
       "      <td>1</td>\n",
       "      <td>$x_1$</td>\n",
       "      <td>$p(x_1)$</td>\n",
       "    </tr>\n",
       "    <tr>\n",
       "      <th>1</th>\n",
       "      <td>2</td>\n",
       "      <td>$x_2$</td>\n",
       "      <td>$p(x_2)$</td>\n",
       "    </tr>\n",
       "    <tr>\n",
       "      <th>2</th>\n",
       "      <td>$\\vdots$</td>\n",
       "      <td>$\\vdots$</td>\n",
       "      <td>$\\vdots$</td>\n",
       "    </tr>\n",
       "    <tr>\n",
       "      <th>3</th>\n",
       "      <td>N</td>\n",
       "      <td>$x_N$</td>\n",
       "      <td>$p(x_N)$</td>\n",
       "    </tr>\n",
       "  </tbody>\n",
       "</table>\n",
       "</div>"
      ],
      "text/plain": [
       "        $i$ $\\mathcal{X}$ Probability\n",
       "0         1         $x_1$    $p(x_1)$\n",
       "1         2         $x_2$    $p(x_2)$\n",
       "2  $\\vdots$      $\\vdots$    $\\vdots$\n",
       "3         N         $x_N$    $p(x_N)$"
      ]
     },
     "execution_count": 2,
     "metadata": {},
     "output_type": "execute_result"
    }
   ],
   "source": [
    "dist = pd.DataFrame({r'$\\mathcal{X}$':[r'$x_1$',r'$x_2$',r'$\\vdots$',r'$x_N$'],\n",
    "                     'Probability':[r'$p(x_1)$',r'$p(x_2)$',r'$\\vdots$',r'$p(x_N)$']})\n",
    "dist[r'$i$'] = ['1','2',r'$\\vdots$','N']\n",
    "dist_names = [r'$i$',r'$\\mathcal{X}$','Probability']\n",
    "dist = dist[dist_names]\n",
    "\n",
    "N = 5\n",
    "vals = [x*5 for x in range(1,N+1)]\n",
    "\n",
    "def xlogx(x):\n",
    "    if x == 0:\n",
    "        return 0\n",
    "    return x*np.log2(x)\n",
    "\n",
    "def H(x_probs):\n",
    "    return -np.sum([xlogx(x) for x in x_probs])\n",
    "\n",
    "dist"
   ]
  },
  {
   "cell_type": "markdown",
   "metadata": {},
   "source": [
    "### Behavior of entropy"
   ]
  },
  {
   "cell_type": "code",
   "execution_count": 22,
   "metadata": {},
   "outputs": [
    {
     "data": {
      "image/png": "[encoded data removed]",
      "text/plain": [
       "<matplotlib.figure.Figure at 0x1ca33ca3208>"
      ]
     },
     "metadata": {},
     "output_type": "display_data"
    }
   ],
   "source": [
    "grids = {}\n",
    "\n",
    "def make_probs(N, max_val):\n",
    "    \n",
    "    x_vals = np.exp(-np.linspace(0,max_val,N))\n",
    "    x_probs = pd.Series(x_vals/np.sum(x_vals)).sort_values()\n",
    "    x_probs.index = range(N)\n",
    "    return x_probs\n",
    "\n",
    "Ns = list(range(4,12,2))\n",
    "max_vals = np.linspace(0,7,5)\n",
    "\n",
    "for n in Ns:\n",
    "    for mv in max_vals:\n",
    "        grids[(n,mv)] = make_probs(n, mv)\n",
    "\n",
    "def plot_grid(ax,x_probs):\n",
    "    ax.bar(x_probs.index,x_probs.values, color='skyblue')\n",
    "    ax.spines['top'].set_visible(False)\n",
    "    ax.spines['right'].set_visible(False)\n",
    "    ax.set_xticks([])\n",
    "    ax.set_xlabel(r'$i$')\n",
    "    ax.set_ylim(0,1)\n",
    "    \n",
    "def plot_H(ax,x_probs):\n",
    "    entropy = H(x_probs)\n",
    "    ax.bar([0],entropy, color='lightsalmon',alpha=.7)\n",
    "#     ax.yaxis.tick_right()\n",
    "    ax.spines['top'].set_visible(False)\n",
    "    ax.spines['right'].set_visible(False)\n",
    "    ax.set_xticks([])\n",
    "    ax.set_ylim(0,4)\n",
    "    ax.set_xlabel(r'$\\mathbb{H}$')\n",
    "    \n",
    "def flatten(lst):\n",
    "    list_out = []\n",
    "    for sub_lst in lst:\n",
    "        list_out += sub_lst\n",
    "    return list_out\n",
    "    \n",
    "fig = plt.figure(figsize=(10,8))\n",
    "\n",
    "gs = gridspec.GridSpec(len(max_vals),len(Ns)*2,width_ratios=flatten([[4,1]*len(Ns)]))\n",
    "# gs.update(left=0.55)\n",
    "\n",
    "for j, n in enumerate(Ns):\n",
    "    for i, mv in enumerate(max_vals):\n",
    "        x_probs = grids[(n,mv)]\n",
    "        ax_prob = plt.subplot(gs[i,j*2])\n",
    "        ax_H = plt.subplot(gs[i,j*2+1])\n",
    "        plot_grid(ax_prob,x_probs)\n",
    "        plot_H(ax_H,x_probs)\n",
    "        \n",
    "fig.tight_layout(w_pad=0.8)\n",
    "fig.savefig('Entropy_behavior',dpi=150)"
   ]
  },
  {
   "cell_type": "code",
   "execution_count": 14,
   "metadata": {},
   "outputs": [],
   "source": [
    "?? fig.tight_layout"
   ]
  },
  {
   "cell_type": "markdown",
   "metadata": {},
   "source": [
    "## $X$, $Y$ and their joint distribution"
   ]
  },
  {
   "cell_type": "code",
   "execution_count": 7,
   "metadata": {},
   "outputs": [
    {
     "data": {
      "text/html": [
       "<div>\n",
       "<style scoped>\n",
       "    .dataframe tbody tr th:only-of-type {\n",
       "        vertical-align: middle;\n",
       "    }\n",
       "\n",
       "    .dataframe tbody tr th {\n",
       "        vertical-align: top;\n",
       "    }\n",
       "\n",
       "    .dataframe thead th {\n",
       "        text-align: right;\n",
       "    }\n",
       "</style>\n",
       "<table border=\"1\" class=\"dataframe\">\n",
       "  <thead>\n",
       "    <tr style=\"text-align: right;\">\n",
       "      <th></th>\n",
       "      <th>$i$</th>\n",
       "      <th>$\\mathcal{X}$</th>\n",
       "      <th>Probability</th>\n",
       "    </tr>\n",
       "  </thead>\n",
       "  <tbody>\n",
       "    <tr>\n",
       "      <th>0</th>\n",
       "      <td>1</td>\n",
       "      <td>$x_1$</td>\n",
       "      <td>$p_X(x_1)$</td>\n",
       "    </tr>\n",
       "    <tr>\n",
       "      <th>1</th>\n",
       "      <td>2</td>\n",
       "      <td>$x_2$</td>\n",
       "      <td>$p_X(x_2)$</td>\n",
       "    </tr>\n",
       "    <tr>\n",
       "      <th>2</th>\n",
       "      <td>$\\vdots$</td>\n",
       "      <td>$\\vdots$</td>\n",
       "      <td>$\\vdots$</td>\n",
       "    </tr>\n",
       "    <tr>\n",
       "      <th>3</th>\n",
       "      <td>N</td>\n",
       "      <td>$x_N$</td>\n",
       "      <td>$p_X(x_N)$</td>\n",
       "    </tr>\n",
       "  </tbody>\n",
       "</table>\n",
       "</div>"
      ],
      "text/plain": [
       "        $i$ $\\mathcal{X}$ Probability\n",
       "0         1         $x_1$  $p_X(x_1)$\n",
       "1         2         $x_2$  $p_X(x_2)$\n",
       "2  $\\vdots$      $\\vdots$    $\\vdots$\n",
       "3         N         $x_N$  $p_X(x_N)$"
      ]
     },
     "execution_count": 7,
     "metadata": {},
     "output_type": "execute_result"
    }
   ],
   "source": [
    "X = pd.DataFrame({r'$\\mathcal{X}$':[r'$x_1$',r'$x_2$',r'$\\vdots$',r'$x_N$'],\n",
    "                     'Probability':[r'$p_X(x_1)$',r'$p_X(x_2)$',r'$\\vdots$',r'$p_X(x_N)$']})\n",
    "X[r'$i$'] = ['1','2',r'$\\vdots$','N']\n",
    "X_names = [r'$i$',r'$\\mathcal{X}$','Probability']\n",
    "X = X[X_names]\n",
    "\n",
    "Y = pd.DataFrame({r'$\\mathcal{Y}$':[r'$y_1$',r'$y_2$',r'$\\vdots$',r'$y_M$'],\n",
    "                     'Probability':[r'$p_Y(y_1)$',r'$p_Y(y_2)$',r'$\\vdots$',r'$p_Y(y_M)$']})\n",
    "Y[r'$i$'] = ['1','2',r'$\\vdots$','M']\n",
    "Y_names = [r'$i$',r'$\\mathcal{Y}$','Probability']\n",
    "Y = Y[Y_names]\n",
    "\n",
    "X"
   ]
  },
  {
   "cell_type": "code",
   "execution_count": 8,
   "metadata": {},
   "outputs": [
    {
     "data": {
      "text/html": [
       "<div>\n",
       "<style scoped>\n",
       "    .dataframe tbody tr th:only-of-type {\n",
       "        vertical-align: middle;\n",
       "    }\n",
       "\n",
       "    .dataframe tbody tr th {\n",
       "        vertical-align: top;\n",
       "    }\n",
       "\n",
       "    .dataframe thead th {\n",
       "        text-align: right;\n",
       "    }\n",
       "</style>\n",
       "<table border=\"1\" class=\"dataframe\">\n",
       "  <thead>\n",
       "    <tr style=\"text-align: right;\">\n",
       "      <th></th>\n",
       "      <th>$i$</th>\n",
       "      <th>$\\mathcal{Y}$</th>\n",
       "      <th>Probability</th>\n",
       "    </tr>\n",
       "  </thead>\n",
       "  <tbody>\n",
       "    <tr>\n",
       "      <th>0</th>\n",
       "      <td>1</td>\n",
       "      <td>$y_1$</td>\n",
       "      <td>$p_Y(y_1)$</td>\n",
       "    </tr>\n",
       "    <tr>\n",
       "      <th>1</th>\n",
       "      <td>2</td>\n",
       "      <td>$y_2$</td>\n",
       "      <td>$p_Y(y_2)$</td>\n",
       "    </tr>\n",
       "    <tr>\n",
       "      <th>2</th>\n",
       "      <td>$\\vdots$</td>\n",
       "      <td>$\\vdots$</td>\n",
       "      <td>$\\vdots$</td>\n",
       "    </tr>\n",
       "    <tr>\n",
       "      <th>3</th>\n",
       "      <td>M</td>\n",
       "      <td>$y_M$</td>\n",
       "      <td>$p_Y(y_M)$</td>\n",
       "    </tr>\n",
       "  </tbody>\n",
       "</table>\n",
       "</div>"
      ],
      "text/plain": [
       "        $i$ $\\mathcal{Y}$ Probability\n",
       "0         1         $y_1$  $p_Y(y_1)$\n",
       "1         2         $y_2$  $p_Y(y_2)$\n",
       "2  $\\vdots$      $\\vdots$    $\\vdots$\n",
       "3         M         $y_M$  $p_Y(y_M)$"
      ]
     },
     "execution_count": 8,
     "metadata": {},
     "output_type": "execute_result"
    }
   ],
   "source": [
    "Y"
   ]
  },
  {
   "cell_type": "code",
   "execution_count": 14,
   "metadata": {},
   "outputs": [
    {
     "data": {
      "text/html": [
       "<div>\n",
       "<style scoped>\n",
       "    .dataframe tbody tr th:only-of-type {\n",
       "        vertical-align: middle;\n",
       "    }\n",
       "\n",
       "    .dataframe tbody tr th {\n",
       "        vertical-align: top;\n",
       "    }\n",
       "\n",
       "    .dataframe thead th {\n",
       "        text-align: right;\n",
       "    }\n",
       "</style>\n",
       "<table border=\"1\" class=\"dataframe\">\n",
       "  <thead>\n",
       "    <tr style=\"text-align: right;\">\n",
       "      <th></th>\n",
       "      <th>$i$</th>\n",
       "      <th>$\\mathcal{X}\\times\\mathcal{Y}$</th>\n",
       "      <th>Probability</th>\n",
       "    </tr>\n",
       "  </thead>\n",
       "  <tbody>\n",
       "    <tr>\n",
       "      <th>0</th>\n",
       "      <td>1</td>\n",
       "      <td>$(x_1,y_1)$</td>\n",
       "      <td>$p_{X,Y}(x_1,y_1)$</td>\n",
       "    </tr>\n",
       "    <tr>\n",
       "      <th>1</th>\n",
       "      <td>2</td>\n",
       "      <td>$(x_1,y_2)$</td>\n",
       "      <td>$p_{X,Y}(x_1,y_2)$</td>\n",
       "    </tr>\n",
       "    <tr>\n",
       "      <th>2</th>\n",
       "      <td>$\\vdots$</td>\n",
       "      <td>$\\vdots$</td>\n",
       "      <td>$\\vdots$</td>\n",
       "    </tr>\n",
       "    <tr>\n",
       "      <th>3</th>\n",
       "      <td>NM</td>\n",
       "      <td>$(x_N,y_M)$</td>\n",
       "      <td>$p_{X,Y}(x_N,y_M)$</td>\n",
       "    </tr>\n",
       "  </tbody>\n",
       "</table>\n",
       "</div>"
      ],
      "text/plain": [
       "        $i$ $\\mathcal{X}\\times\\mathcal{Y}$         Probability\n",
       "0         1                    $(x_1,y_1)$  $p_{X,Y}(x_1,y_1)$\n",
       "1         2                    $(x_1,y_2)$  $p_{X,Y}(x_1,y_2)$\n",
       "2  $\\vdots$                       $\\vdots$            $\\vdots$\n",
       "3        NM                    $(x_N,y_M)$  $p_{X,Y}(x_N,y_M)$"
      ]
     },
     "execution_count": 14,
     "metadata": {},
     "output_type": "execute_result"
    }
   ],
   "source": [
    "XY = pd.DataFrame({r'$\\mathcal{X}\\times\\mathcal{Y}$':[r'$(x_1,y_1)$',r'$(x_1,y_2)$',r'$\\vdots$',r'$(x_N,y_M)$'],\n",
    "                     'Probability':[r'$p_{X,Y}(x_1,y_1)$',r'$p_{X,Y}(x_1,y_2)$',r'$\\vdots$',r'$p_{X,Y}(x_N,y_M)$']})\n",
    "XY[r'$i$'] = ['1','2',r'$\\vdots$','NM']\n",
    "XY_names = [r'$i$',r'$\\mathcal{X}\\times\\mathcal{Y}$','Probability']\n",
    "XY = XY[XY_names]\n",
    "XY"
   ]
  },
  {
   "cell_type": "code",
   "execution_count": null,
   "metadata": {},
   "outputs": [],
   "source": []
  },
  {
   "cell_type": "code",
   "execution_count": null,
   "metadata": {},
   "outputs": [],
   "source": []
  }
 ],
 "metadata": {
  "kernelspec": {
   "display_name": "Python 3",
   "language": "python",
   "name": "python3"
  },
  "language_info": {
   "codemirror_mode": {
    "name": "ipython",
    "version": 3
   },
   "file_extension": ".py",
   "mimetype": "text/x-python",
   "name": "python",
   "nbconvert_exporter": "python",
   "pygments_lexer": "ipython3",
   "version": "3.6.4"
  }
 },
 "nbformat": 4,
 "nbformat_minor": 2
}
