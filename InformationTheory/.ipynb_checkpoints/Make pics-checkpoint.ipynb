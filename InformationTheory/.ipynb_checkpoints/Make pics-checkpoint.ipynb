{
 "cells": [
  {
   "cell_type": "code",
   "execution_count": null,
   "metadata": {},
   "outputs": [],
   "source": [
    "import numpy as np\n",
    "import pandas as pd\n",
    "from scipy.stats import norm\n",
    "import matplotlib.pyplot as plt\n",
    "import matplotlib.gridspec as gridspec\n",
    "% matplotlib inline"
   ]
  },
  {
   "cell_type": "code",
   "execution_count": null,
   "metadata": {},
   "outputs": [],
   "source": [
    "dist = pd.DataFrame({r'$\\mathcal{X}$':[r'$x_1$',r'$x_2$',r'$\\vdots$',r'$x_N$'],\n",
    "                     'Probability':[r'$p(x_1)$',r'$p(x_2)$',r'$\\vdots$',r'$p(x_N)$']})\n",
    "dist[r'$i$'] = ['1','2',r'$\\vdots$','N']\n",
    "dist_names = [r'$i$',r'$\\mathcal{X}$','Probability']\n",
    "dist = dist[dist_names]\n",
    "\n",
    "N = 5\n",
    "vals = [x*5 for x in range(1,N+1)]\n",
    "\n",
    "# X1 = pd.DataFrame({r'$\\mathcal{X}$':vals,\n",
    "#                      'Probability':[1/N for x in vals]})\n",
    "# X1[r'$i$'] = [x for x in range(1,N+1)]\n",
    "# X1 = X1[dist_names]\n",
    "\n",
    "# X2 = pd.DataFrame({r'$\\mathcal{X}$':vals,\n",
    "#                      'Probability':[0 for x in vals]})\n",
    "# X2.loc[3,'Probability'] = 1\n",
    "# X2[r'$i$'] = [x for x in range(1,N+1)]\n",
    "# X2 = X2[dist_names]\n",
    "\n",
    "def xlogx(x):\n",
    "    if x == 0:\n",
    "        return 0\n",
    "    return x*np.log2(x)\n",
    "\n",
    "def H(x_probs):\n",
    "    return -np.sum([xlogx(x) for x in x_probs])\n",
    "\n",
    "dist"
   ]
  },
  {
   "cell_type": "markdown",
   "metadata": {},
   "source": [
    "### Behavior of entropy"
   ]
  },
  {
   "cell_type": "code",
   "execution_count": null,
   "metadata": {},
   "outputs": [],
   "source": [
    "grids = {}\n",
    "\n",
    "def make_probs(N, max_val):\n",
    "    \n",
    "    x_vals = np.exp(-np.linspace(0,max_val,N))\n",
    "    x_probs = pd.Series(x_vals/np.sum(x_vals)).sort_values()\n",
    "    x_probs.index = range(N)\n",
    "    return x_probs\n",
    "\n",
    "Ns = list(range(4,14,2))\n",
    "max_vals = np.linspace(0,7,5)\n",
    "\n",
    "for n in Ns:\n",
    "    for mv in max_vals:\n",
    "        grids[(n,mv)] = make_probs(n, mv)\n",
    "#         fig, ax = plt.subplots()\n",
    "#         grids[(n,mv)].plot(kind='bar',color='green',alpha=.4,ax=ax)\n",
    "\n",
    "def plot_grid(ax,x_probs):\n",
    "    ax.bar(x_probs.index,x_probs.values, color='skyblue')\n",
    "    ax.spines['top'].set_visible(False)\n",
    "    ax.spines['right'].set_visible(False)\n",
    "    ax.set_xticks([])\n",
    "#     ax.set_xlabel(r'$i$')\n",
    "    ax.set_ylim(0,1)\n",
    "    \n",
    "def plot_H(ax,x_probs):\n",
    "    entropy = H(x_probs)\n",
    "    ax.bar([0],entropy, color='lightsalmon',alpha=.7)\n",
    "#     ax.yaxis.tick_right()\n",
    "    ax.spines['top'].set_visible(False)\n",
    "    ax.spines['right'].set_visible(False)\n",
    "    ax.set_xticks([])\n",
    "    ax.set_ylim(0,4)\n",
    "    ax.set_xlabel(r'$\\mathbb{H}$')\n",
    "    \n",
    "def flatten(lst):\n",
    "    list_out = []\n",
    "    for sub_lst in lst:\n",
    "        list_out += sub_lst\n",
    "    return list_out\n",
    "    \n",
    "fig = plt.figure(figsize=(15,8))\n",
    "\n",
    "gs = gridspec.GridSpec(len(Ns),len(max_vals)*2,width_ratios=flatten([[4,1]*len(max_vals)]))\n",
    "# gs.update(left=0.55)\n",
    "\n",
    "for j, n in enumerate(Ns):\n",
    "    for i, mv in enumerate(max_vals):\n",
    "        x_probs = grids[(n,mv)]\n",
    "        ax_prob = plt.subplot(gs[i,j*2])\n",
    "        ax_H = plt.subplot(gs[i,j*2+1])\n",
    "        plot_grid(ax_prob,x_probs)\n",
    "        plot_H(ax_H,x_probs)\n",
    "        \n",
    "fig.tight_layout()\n",
    "fig.save_fig('Entropy_behavior',dpi=150)"
   ]
  }
 ],
 "metadata": {
  "kernelspec": {
   "display_name": "Python 3",
   "language": "python",
   "name": "python3"
  },
  "language_info": {
   "codemirror_mode": {
    "name": "ipython",
    "version": 3
   },
   "file_extension": ".py",
   "mimetype": "text/x-python",
   "name": "python",
   "nbconvert_exporter": "python",
   "pygments_lexer": "ipython3",
   "version": "3.6.4"
  }
 },
 "nbformat": 4,
 "nbformat_minor": 2
}
